{
  "cells": [
    {
      "cell_type": "markdown",
      "metadata": {},
      "source": [
        "# Import package and module"
      ]
    },
    {
      "cell_type": "code",
      "execution_count": null,
      "metadata": {
        "id": "B5XzxVF5Xve3"
      },
      "outputs": [],
      "source": [
        "import tensorflow as tf\n",
        "import numpy as np\n",
        "import matplotlib.pyplot as plt\n",
        "import csv\n",
        "from itertools import zip_longest"
      ]
    },
    {
      "cell_type": "code",
      "execution_count": null,
      "metadata": {
        "colab": {
          "base_uri": "https://localhost:8080/"
        },
        "id": "26gzMN-EdU8I",
        "outputId": "0dc480d5-9bbd-430e-d92f-5abdbeb7be56"
      },
      "outputs": [],
      "source": [
        "tf.config.list_physical_devices(\"GPU\")\n",
        "!nvidia-smi"
      ]
    },
    {
      "cell_type": "markdown",
      "metadata": {
        "id": "eGY-cAkI0NUu"
      },
      "source": [
        "# Load path"
      ]
    },
    {
      "cell_type": "code",
      "execution_count": null,
      "metadata": {
        "id": "H_GbHtqVoouP"
      },
      "outputs": [],
      "source": [
        "train_dir = './cigarette-smoker-detection-kaggle/train'\n",
        "test_dir = './cigarette-smoker-detection-kaggle/test'"
      ]
    },
    {
      "cell_type": "markdown",
      "metadata": {
        "id": "bxSgOQIHokq1"
      },
      "source": [
        "# Preprocessing"
      ]
    },
    {
      "cell_type": "markdown",
      "metadata": {
        "id": "jPL9hbdGpdOh"
      },
      "source": [
        "### Preprocessing"
      ]
    },
    {
      "cell_type": "code",
      "execution_count": null,
      "metadata": {
        "colab": {
          "base_uri": "https://localhost:8080/"
        },
        "id": "Fxfei6v8punH",
        "outputId": "77bfc042-7cc4-4fe2-e7d3-c42e116ab504"
      },
      "outputs": [],
      "source": [
        "img_size = 224\n",
        "batch_size = 32\n",
        "seed = 72\n",
        "train_ds = tf.keras.utils.image_dataset_from_directory(\n",
        "    train_dir,\n",
        "    validation_split=0.2,\n",
        "    subset=\"training\",\n",
        "    seed=seed,\n",
        "    label_mode=\"binary\",\n",
        "    image_size=(img_size, img_size),\n",
        "    batch_size=batch_size\n",
        ")\n",
        "\n",
        "val_ds = tf.keras.utils.image_dataset_from_directory(\n",
        "    train_dir,\n",
        "    validation_split=0.2,\n",
        "    subset=\"validation\",\n",
        "    seed=seed,\n",
        "    label_mode=\"binary\",\n",
        "    image_size=(img_size,img_size),\n",
        "    batch_size=batch_size\n",
        ")\n",
        "\n",
        "test_ds = tf.keras.utils.image_dataset_from_directory(\n",
        "    test_dir,\n",
        "    seed=seed,\n",
        "    label_mode=\"binary\",\n",
        "    image_size=(img_size, img_size),\n",
        "    batch_size=batch_size\n",
        ")"
      ]
    },
    {
      "cell_type": "code",
      "execution_count": null,
      "metadata": {
        "colab": {
          "base_uri": "https://localhost:8080/"
        },
        "id": "mKBPFyV_xdcX",
        "outputId": "47a79b29-4ec4-455d-ade0-c6cc16f3504d"
      },
      "outputs": [],
      "source": [
        "train_ds.class_names"
      ]
    },
    {
      "cell_type": "markdown",
      "metadata": {
        "id": "ietuHeAUNDuy"
      },
      "source": [
        "## Rescale"
      ]
    },
    {
      "cell_type": "code",
      "execution_count": null,
      "metadata": {
        "id": "3Lm_Cxe6NNXt"
      },
      "outputs": [],
      "source": [
        "normalization_layer = tf.keras.layers.Rescaling(1./255)\n",
        "train_ds = train_ds.map(lambda x, y: (normalization_layer(x), y))\n",
        "val_ds = val_ds.map(lambda x, y: (normalization_layer(x), y))\n",
        "test_ds = test_ds.map(lambda x, y: (normalization_layer(x), y))\n",
        "print(\"\\nRescale Successful\")"
      ]
    },
    {
      "cell_type": "markdown",
      "metadata": {
        "id": "hDBa_FR0Osk3"
      },
      "source": [
        "# Train"
      ]
    },
    {
      "cell_type": "code",
      "execution_count": null,
      "metadata": {
        "colab": {
          "base_uri": "https://localhost:8080/"
        },
        "id": "sseo35IhOuMR",
        "outputId": "3d8eab4e-4c2d-4b73-a29b-a3356b0f21db"
      },
      "outputs": [],
      "source": [
        "base_model = tf.keras.applications.MobileNetV3Large(\n",
        "    input_shape=(img_size, img_size, 3),\n",
        "    weights=\"imagenet\",\n",
        "    include_preprocessing=False,\n",
        "    include_top=False,\n",
        "    pooling=\"avg\"\n",
        ")\n",
        "\n",
        "base_model.trainable = True"
      ]
    },
    {
      "cell_type": "code",
      "execution_count": null,
      "metadata": {
        "id": "0g2OSXt0Smpr"
      },
      "outputs": [],
      "source": [
        "model = tf.keras.Sequential([\n",
        "                             base_model,\n",
        "                             tf.keras.layers.Dense(units=1, activation = \"sigmoid\")\n",
        "])"
      ]
    },
    {
      "cell_type": "code",
      "execution_count": null,
      "metadata": {
        "id": "bnyLtIBmVzmg"
      },
      "outputs": [],
      "source": [
        "model.compile(optimizer=\"adam\",\n",
        "              loss=\"binary_crossentropy\",\n",
        "              metrics=[\"accuracy\", \n",
        "                       tf.keras.metrics.Precision(),\n",
        "                       tf.keras.metrics.Recall()\n",
        "                       #,tfa.metrics.F1Score(num_classes= 2 )\n",
        "                       ])"
      ]
    },
    {
      "cell_type": "markdown",
      "metadata": {
        "id": "L0NyGqt2WK9_"
      },
      "source": [
        "Model Summary"
      ]
    },
    {
      "cell_type": "code",
      "execution_count": null,
      "metadata": {
        "colab": {
          "base_uri": "https://localhost:8080/",
          "height": 700
        },
        "id": "qPGLDcZ5Vj0g",
        "outputId": "f5416df3-ce53-45ec-fae3-1e448618ad9c"
      },
      "outputs": [],
      "source": [
        "model.summary()\n",
        "\n",
        "tf.keras.utils.plot_model(\n",
        "    model,\n",
        "    show_shapes=True\n",
        ")"
      ]
    },
    {
      "cell_type": "markdown",
      "metadata": {},
      "source": [
        "Start train"
      ]
    },
    {
      "cell_type": "code",
      "execution_count": null,
      "metadata": {},
      "outputs": [],
      "source": [
        "history_1 = model.fit(\n",
        "    train_ds,\n",
        "    validation_data=val_ds,\n",
        "    epochs=300,\n",
        "    steps_per_epoch=len(train_ds),\n",
        "    validation_steps=len(val_ds)\n",
        ")\n",
        "\n",
        "print(\"\\n==========================\")\n",
        "print(\"======= Train done =======\")\n",
        "print(\"==========================\")"
      ]
    },
    {
      "cell_type": "markdown",
      "metadata": {},
      "source": [
        "Result #1 train"
      ]
    },
    {
      "cell_type": "code",
      "execution_count": null,
      "metadata": {},
      "outputs": [],
      "source": [
        "acc = history_1.history['accuracy']\n",
        "prec = history_1.history['precision']\n",
        "recall = history_1.history['recall']\n",
        "loss = history_1.history['loss']\n",
        "\n",
        "val_acc = history_1.history['val_accuracy']\n",
        "val_prec = history_1.history['val_precision']\n",
        "val_recall = history_1.history['val_recall']\n",
        "val_loss = history_1.history['val_loss']"
      ]
    },
    {
      "cell_type": "code",
      "execution_count": null,
      "metadata": {},
      "outputs": [],
      "source": [
        "save_path = './Developed-model/test'\n",
        "model.save(save_path)\n",
        "print(\"\\nModel has been saved\")"
      ]
    },
    {
      "cell_type": "code",
      "execution_count": null,
      "metadata": {},
      "outputs": [],
      "source": [
        "print(\"\\nEvaluating the model with test set\")\n",
        "model.evaluate(test_ds)"
      ]
    },
    {
      "cell_type": "markdown",
      "metadata": {},
      "source": [
        "# Export Fine tune 1 metrics result to csv"
      ]
    },
    {
      "cell_type": "code",
      "execution_count": null,
      "metadata": {},
      "outputs": [],
      "source": [
        "data = [acc, prec, recall, loss, val_acc, val_prec, val_recall, val_loss]\n",
        "export_data = zip_longest(*data, fillvalue = '')\n",
        "\n",
        "with open('train_test_result.csv', 'w', encoding=\"ISO-8859-1\", newline='') as file:\n",
        "      write = csv.writer(file)\n",
        "      write.writerow((\"acc\", \"prec\", \"recall\", \"loss\", \"val_acc\", \"val_prec\", \"val_recall\", \"val_loss\"))\n",
        "      write.writerows(export_data)\n",
        "\n",
        "print(\"\\nTrain result has been saved\")"
      ]
    },
    {
      "cell_type": "code",
      "execution_count": null,
      "metadata": {},
      "outputs": [],
      "source": [
        "\n",
        "\n",
        "plt.figure(figsize=(20, 16))\n",
        "plt.subplot(2, 2, 1)\n",
        "plt.plot(acc, label='Training Accuracy')\n",
        "plt.plot(val_acc, label='Validation Accuracy')\n",
        "plt.legend(loc='lower right')\n",
        "plt.ylabel('Accuracy')\n",
        "plt.ylim([min(plt.ylim()),1])\n",
        "plt.title('Training and Validation Accuracy')\n",
        "\n",
        "plt.subplot(2, 2, 2)\n",
        "plt.plot(loss, label='Training Loss')\n",
        "plt.plot(val_loss, label='Validation Loss')\n",
        "plt.legend(loc='upper right')\n",
        "plt.ylabel('Cross Entropy')\n",
        "plt.ylim([0,1.0])\n",
        "plt.title('Training and Validation Loss')\n",
        "\n",
        "plt.subplot(2, 2, 3)\n",
        "plt.plot(prec, label='Training Precision')\n",
        "plt.plot(val_prec, label='Validation Precision')\n",
        "plt.legend(loc='lower right')\n",
        "plt.ylabel('Precision')\n",
        "plt.ylim([min(plt.ylim()),1])\n",
        "plt.title('Training and Validation Precision')\n",
        "plt.xlabel('epoch')\n",
        "\n",
        "plt.subplot(2, 2, 4)\n",
        "plt.plot(recall, label='Training Recall')\n",
        "plt.plot(val_recall, label='Validation Recall')\n",
        "plt.legend(loc='lower right')\n",
        "plt.ylabel('Recall')\n",
        "plt.ylim([min(plt.ylim()),1])\n",
        "plt.title('Training and Validation Recall')\n",
        "\n",
        "plt.xlabel('epoch')\n",
        "plt.show()"
      ]
    }
  ],
  "metadata": {
    "accelerator": "GPU",
    "colab": {
      "collapsed_sections": [
        "eGY-cAkI0NUu",
        "bxSgOQIHokq1",
        "ietuHeAUNDuy"
      ],
      "name": "smoker-detectin-Mnetv3.ipynb",
      "provenance": []
    },
    "interpreter": {
      "hash": "03869a44261c6371b34f5426981a954ad5f80c333b73adca2fd233cc85bef991"
    },
    "kernelspec": {
      "display_name": "Python 3.8.12 64-bit ('myenv': conda)",
      "name": "python3"
    },
    "language_info": {
      "codemirror_mode": {
        "name": "ipython",
        "version": 3
      },
      "file_extension": ".py",
      "mimetype": "text/x-python",
      "name": "python",
      "nbconvert_exporter": "python",
      "pygments_lexer": "ipython3",
      "version": "3.8.12"
    }
  },
  "nbformat": 4,
  "nbformat_minor": 0
}
