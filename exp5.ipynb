{
  "cells": [
    {
      "cell_type": "markdown",
      "metadata": {},
      "source": [
        "# Import package and module"
      ]
    },
    {
      "cell_type": "code",
      "execution_count": 13,
      "metadata": {
        "id": "B5XzxVF5Xve3"
      },
      "outputs": [],
      "source": [
        "import tensorflow as tf\n",
        "import numpy as np\n",
        "import matplotlib.pyplot as plt\n",
        "import csv\n",
        "from itertools import zip_longest"
      ]
    },
    {
      "cell_type": "code",
      "execution_count": 14,
      "metadata": {
        "colab": {
          "base_uri": "https://localhost:8080/"
        },
        "id": "26gzMN-EdU8I",
        "outputId": "0dc480d5-9bbd-430e-d92f-5abdbeb7be56"
      },
      "outputs": [
        {
          "name": "stdout",
          "output_type": "stream",
          "text": [
            "Thu May 12 14:42:49 2022       \n",
            "+-----------------------------------------------------------------------------+\n",
            "| NVIDIA-SMI 460.89       Driver Version: 460.89       CUDA Version: 11.2     |\n",
            "|-------------------------------+----------------------+----------------------+\n",
            "| GPU  Name            TCC/WDDM | Bus-Id        Disp.A | Volatile Uncorr. ECC |\n",
            "| Fan  Temp  Perf  Pwr:Usage/Cap|         Memory-Usage | GPU-Util  Compute M. |\n",
            "|                               |                      |               MIG M. |\n",
            "|===============================+======================+======================|\n",
            "|   0  GeForce GTX 166... WDDM  | 00000000:29:00.0  On |                  N/A |\n",
            "| 40%   49C    P8    20W / 125W |    956MiB /  6144MiB |     20%      Default |\n",
            "|                               |                      |                  N/A |\n",
            "+-------------------------------+----------------------+----------------------+\n",
            "                                                                               \n",
            "+-----------------------------------------------------------------------------+\n",
            "| Processes:                                                                  |\n",
            "|  GPU   GI   CI        PID   Type   Process name                  GPU Memory |\n",
            "|        ID   ID                                                   Usage      |\n",
            "|=============================================================================|\n",
            "|    0   N/A  N/A      1252    C+G   C:\\Windows\\System32\\dwm.exe     N/A      |\n",
            "|    0   N/A  N/A      2516    C+G   ...\\app-1.0.9004\\Discord.exe    N/A      |\n",
            "|    0   N/A  N/A      3004    C+G   ...me\\Application\\chrome.exe    N/A      |\n",
            "|    0   N/A  N/A      5184    C+G   ...p-3.0.0\\GitHubDesktop.exe    N/A      |\n",
            "|    0   N/A  N/A      6156    C+G   ...in7x64\\steamwebhelper.exe    N/A      |\n",
            "|    0   N/A  N/A      6200    C+G   C:\\Windows\\explorer.exe         N/A      |\n",
            "|    0   N/A  N/A      6868    C+G   ...ll\\1.0.0.443\\LineCall.exe    N/A      |\n",
            "|    0   N/A  N/A      7116    C+G   ...erver\\YourPhoneServer.exe    N/A      |\n",
            "|    0   N/A  N/A      7956    C+G   ...kyb3d8bbwe\\Calculator.exe    N/A      |\n",
            "|    0   N/A  N/A      8204    C+G   ...artMenuExperienceHost.exe    N/A      |\n",
            "|    0   N/A  N/A      8652    C+G   ...5n1h2txyewy\\SearchApp.exe    N/A      |\n",
            "|    0   N/A  N/A      9732    C+G   ...ekyb3d8bbwe\\HxOutlook.exe    N/A      |\n",
            "|    0   N/A  N/A      9880    C+G   ...ekyb3d8bbwe\\YourPhone.exe    N/A      |\n",
            "|    0   N/A  N/A     10400    C+G   ...lPanel\\SystemSettings.exe    N/A      |\n",
            "|    0   N/A  N/A     10640    C+G   ...wekyb3d8bbwe\\Video.UI.exe    N/A      |\n",
            "|    0   N/A  N/A     10988    C+G   ...y\\ShellExperienceHost.exe    N/A      |\n",
            "|    0   N/A  N/A     11304    C+G   ...wekyb3d8bbwe\\Music.UI.exe    N/A      |\n",
            "|    0   N/A  N/A     12172    C+G   ...2txyewy\\TextInputHost.exe    N/A      |\n",
            "|    0   N/A  N/A     13140    C+G   ...LINE\\bin\\current\\LINE.exe    N/A      |\n",
            "|    0   N/A  N/A     13304    C+G   ...er_engine\\wallpaper64.exe    N/A      |\n",
            "|    0   N/A  N/A     16300    C+G   ...cw5n1h2txyewy\\LockApp.exe    N/A      |\n",
            "|    0   N/A  N/A     17780    C+G   ..._dt26b99r8h8gj\\RtkUWP.exe    N/A      |\n",
            "|    0   N/A  N/A     18992    C+G   ...icrosoft VS Code\\Code.exe    N/A      |\n",
            "+-----------------------------------------------------------------------------+\n"
          ]
        }
      ],
      "source": [
        "tf.config.list_physical_devices(\"GPU\")\n",
        "!nvidia-smi"
      ]
    },
    {
      "cell_type": "markdown",
      "metadata": {
        "id": "eGY-cAkI0NUu"
      },
      "source": [
        "# Load path"
      ]
    },
    {
      "cell_type": "code",
      "execution_count": 11,
      "metadata": {},
      "outputs": [
        {
          "name": "stdout",
          "output_type": "stream",
          "text": [
            "Mendley dataset selected\n"
          ]
        }
      ],
      "source": [
        "try:\n",
        "    set_pick = int(input(\"Dataset : \\n1. Kaggle\\n2. Mendley\"))\n",
        "    if set_pick == 1:\n",
        "        # Dataset dir\n",
        "        train_dir = './cigarette-smoker-detection-kaggle/train'\n",
        "        test_dir = './cigarette-smoker-detection-kaggle/test'\n",
        "\n",
        "        print(\"Kaggle dataset selected\")\n",
        "\n",
        "    elif set_pick == 2:\n",
        "        # Dataset dir \n",
        "        train_dir = './dataset_mendley/training_data'\n",
        "        val_dir = './dataset_mendley/validation_data'\n",
        "        test_dir = './dataset_mendley/testing_data'\n",
        "        \n",
        "        print(\"Mendley dataset selected\")\n",
        "    else:\n",
        "        raise Exception(\"Input 1 or 2\")\n",
        "except ValueError:\n",
        "    print(\"Wrong input value!!!\")"
      ]
    },
    {
      "cell_type": "markdown",
      "metadata": {
        "id": "bxSgOQIHokq1"
      },
      "source": [
        "# Preprocessing"
      ]
    },
    {
      "cell_type": "markdown",
      "metadata": {
        "id": "jPL9hbdGpdOh"
      },
      "source": [
        "### Preprocessing"
      ]
    },
    {
      "cell_type": "code",
      "execution_count": 16,
      "metadata": {
        "colab": {
          "base_uri": "https://localhost:8080/"
        },
        "id": "Fxfei6v8punH",
        "outputId": "77bfc042-7cc4-4fe2-e7d3-c42e116ab504"
      },
      "outputs": [
        {
          "name": "stdout",
          "output_type": "stream",
          "text": [
            "Found 1610 files belonging to 2 classes.\n",
            "Found 400 files belonging to 2 classes.\n",
            "Found 400 files belonging to 2 classes.\n"
          ]
        }
      ],
      "source": [
        "img_size = 224\n",
        "batch_size = 32\n",
        "seed = 72\n",
        "\n",
        "if set_pick == 1:\n",
        "\n",
        "    train_ds = tf.keras.utils.image_dataset_from_directory(\n",
        "        train_dir,\n",
        "        validation_split=0.2,\n",
        "        subset=\"training\",\n",
        "        seed=seed,\n",
        "        label_mode=\"binary\",\n",
        "        image_size=(img_size, img_size),\n",
        "        batch_size=batch_size\n",
        "    )\n",
        "\n",
        "    val_ds = tf.keras.utils.image_dataset_from_directory(\n",
        "        train_dir,\n",
        "        validation_split=0.2,\n",
        "        subset=\"validation\",\n",
        "        seed=seed,\n",
        "        label_mode=\"binary\",\n",
        "        image_size=(img_size,img_size),\n",
        "        batch_size=batch_size\n",
        "    )\n",
        "\n",
        "elif set_pick == 2:\n",
        "\n",
        "    train_ds = tf.keras.utils.image_dataset_from_directory(\n",
        "        train_dir,\n",
        "        seed=seed,\n",
        "        label_mode=\"binary\",\n",
        "        image_size=(img_size, img_size),\n",
        "        batch_size=batch_size\n",
        "    )\n",
        "\n",
        "    val_ds = tf.keras.utils.image_dataset_from_directory(\n",
        "        val_dir,\n",
        "        seed=seed,\n",
        "        label_mode=\"binary\",\n",
        "        image_size=(img_size,img_size),\n",
        "        batch_size=batch_size\n",
        "    )\n",
        "\n",
        "test_ds = tf.keras.utils.image_dataset_from_directory(\n",
        "    test_dir,\n",
        "    seed=seed,\n",
        "    label_mode=\"binary\",\n",
        "    image_size=(img_size, img_size),\n",
        "    batch_size=batch_size\n",
        ")"
      ]
    },
    {
      "cell_type": "code",
      "execution_count": 17,
      "metadata": {
        "colab": {
          "base_uri": "https://localhost:8080/"
        },
        "id": "mKBPFyV_xdcX",
        "outputId": "47a79b29-4ec4-455d-ade0-c6cc16f3504d"
      },
      "outputs": [
        {
          "data": {
            "text/plain": [
              "['notsmoking', 'smoking']"
            ]
          },
          "execution_count": 17,
          "metadata": {},
          "output_type": "execute_result"
        }
      ],
      "source": [
        "train_ds.class_names"
      ]
    },
    {
      "cell_type": "markdown",
      "metadata": {
        "id": "ietuHeAUNDuy"
      },
      "source": [
        "## Rescale"
      ]
    },
    {
      "cell_type": "code",
      "execution_count": 18,
      "metadata": {
        "id": "3Lm_Cxe6NNXt"
      },
      "outputs": [
        {
          "name": "stdout",
          "output_type": "stream",
          "text": [
            "\n",
            "Rescale Successful\n"
          ]
        }
      ],
      "source": [
        "normalization_layer = tf.keras.layers.Rescaling(1./255)\n",
        "train_ds = train_ds.map(lambda x, y: (normalization_layer(x), y))\n",
        "val_ds = val_ds.map(lambda x, y: (normalization_layer(x), y))\n",
        "test_ds = test_ds.map(lambda x, y: (normalization_layer(x), y))\n",
        "print(\"\\nRescale Successful\")"
      ]
    },
    {
      "cell_type": "markdown",
      "metadata": {
        "id": "hDBa_FR0Osk3"
      },
      "source": [
        "# Train"
      ]
    },
    {
      "cell_type": "code",
      "execution_count": 19,
      "metadata": {
        "colab": {
          "base_uri": "https://localhost:8080/"
        },
        "id": "sseo35IhOuMR",
        "outputId": "3d8eab4e-4c2d-4b73-a29b-a3356b0f21db"
      },
      "outputs": [],
      "source": [
        "base_model = tf.keras.applications.MobileNetV3Large(\n",
        "    input_shape=(img_size, img_size, 3),\n",
        "    weights=\"imagenet\",\n",
        "    include_preprocessing=False,\n",
        "    include_top=False,\n",
        "    pooling=\"avg\"\n",
        ")\n",
        "\n",
        "base_model.trainable = False"
      ]
    },
    {
      "cell_type": "code",
      "execution_count": 20,
      "metadata": {
        "id": "0g2OSXt0Smpr"
      },
      "outputs": [],
      "source": [
        "model = tf.keras.Sequential([\n",
        "                             base_model,\n",
        "                             tf.keras.layers.Dense(units=1, activation = \"sigmoid\")\n",
        "])"
      ]
    },
    {
      "cell_type": "code",
      "execution_count": 21,
      "metadata": {
        "id": "bnyLtIBmVzmg"
      },
      "outputs": [],
      "source": [
        "model.compile(optimizer=\"adam\",\n",
        "              loss=\"binary_crossentropy\",\n",
        "              metrics=[\"accuracy\", \n",
        "                       tf.keras.metrics.Precision(),\n",
        "                       tf.keras.metrics.Recall()\n",
        "                       #,tfa.metrics.F1Score(num_classes= 2 )\n",
        "                       ])"
      ]
    },
    {
      "cell_type": "markdown",
      "metadata": {
        "id": "L0NyGqt2WK9_"
      },
      "source": [
        "Model Summary"
      ]
    },
    {
      "cell_type": "code",
      "execution_count": 22,
      "metadata": {
        "colab": {
          "base_uri": "https://localhost:8080/",
          "height": 700
        },
        "id": "qPGLDcZ5Vj0g",
        "outputId": "f5416df3-ce53-45ec-fae3-1e448618ad9c"
      },
      "outputs": [
        {
          "name": "stdout",
          "output_type": "stream",
          "text": [
            "Model: \"sequential\"\n",
            "_________________________________________________________________\n",
            " Layer (type)                Output Shape              Param #   \n",
            "=================================================================\n",
            " MobilenetV3large (Functiona  (None, 960)              2996352   \n",
            " l)                                                              \n",
            "                                                                 \n",
            " dense (Dense)               (None, 1)                 961       \n",
            "                                                                 \n",
            "=================================================================\n",
            "Total params: 2,997,313\n",
            "Trainable params: 961\n",
            "Non-trainable params: 2,996,352\n",
            "_________________________________________________________________\n",
            "You must install pydot (`pip install pydot`) and install graphviz (see instructions at https://graphviz.gitlab.io/download/) for plot_model/model_to_dot to work.\n"
          ]
        }
      ],
      "source": [
        "model.summary()\n",
        "\n",
        "tf.keras.utils.plot_model(\n",
        "    model,\n",
        "    show_shapes=True\n",
        ")"
      ]
    },
    {
      "cell_type": "markdown",
      "metadata": {},
      "source": [
        "Start train"
      ]
    },
    {
      "cell_type": "code",
      "execution_count": 23,
      "metadata": {},
      "outputs": [
        {
          "name": "stdout",
          "output_type": "stream",
          "text": [
            "Epoch 1/300\n",
            "51/51 [==============================] - 21s 236ms/step - loss: 0.5397 - accuracy: 0.7261 - precision: 0.7203 - recall: 0.7391 - val_loss: 0.3844 - val_accuracy: 0.8300 - val_precision: 0.8204 - val_recall: 0.8450\n",
            "Epoch 2/300\n",
            "51/51 [==============================] - 8s 139ms/step - loss: 0.3532 - accuracy: 0.8584 - precision: 0.8685 - recall: 0.8447 - val_loss: 0.3354 - val_accuracy: 0.8450 - val_precision: 0.8632 - val_recall: 0.8200\n",
            "Epoch 3/300\n",
            "51/51 [==============================] - 8s 139ms/step - loss: 0.3019 - accuracy: 0.8801 - precision: 0.8844 - recall: 0.8745 - val_loss: 0.3165 - val_accuracy: 0.8550 - val_precision: 0.8901 - val_recall: 0.8100\n",
            "Epoch 4/300\n",
            "51/51 [==============================] - 8s 140ms/step - loss: 0.2671 - accuracy: 0.8950 - precision: 0.9015 - recall: 0.8870 - val_loss: 0.3051 - val_accuracy: 0.8600 - val_precision: 0.8956 - val_recall: 0.8150\n",
            "Epoch 5/300\n",
            "51/51 [==============================] - 8s 140ms/step - loss: 0.2456 - accuracy: 0.9112 - precision: 0.9127 - recall: 0.9093 - val_loss: 0.2919 - val_accuracy: 0.8750 - val_precision: 0.8989 - val_recall: 0.8450\n",
            "Epoch 6/300\n",
            "51/51 [==============================] - 9s 141ms/step - loss: 0.2332 - accuracy: 0.9124 - precision: 0.9150 - recall: 0.9093 - val_loss: 0.2882 - val_accuracy: 0.8800 - val_precision: 0.9086 - val_recall: 0.8450\n",
            "Epoch 7/300\n",
            "51/51 [==============================] - 8s 140ms/step - loss: 0.2164 - accuracy: 0.9211 - precision: 0.9216 - recall: 0.9205 - val_loss: 0.2792 - val_accuracy: 0.8775 - val_precision: 0.8995 - val_recall: 0.8500\n",
            "Epoch 8/300\n",
            "51/51 [==============================] - 8s 138ms/step - loss: 0.2058 - accuracy: 0.9298 - precision: 0.9261 - recall: 0.9342 - val_loss: 0.2834 - val_accuracy: 0.8725 - val_precision: 0.9116 - val_recall: 0.8250\n",
            "Epoch 9/300\n",
            "51/51 [==============================] - 9s 142ms/step - loss: 0.1950 - accuracy: 0.9354 - precision: 0.9333 - recall: 0.9379 - val_loss: 0.2766 - val_accuracy: 0.8750 - val_precision: 0.9076 - val_recall: 0.8350\n",
            "Epoch 10/300\n",
            "51/51 [==============================] - 8s 137ms/step - loss: 0.1879 - accuracy: 0.9373 - precision: 0.9378 - recall: 0.9366 - val_loss: 0.2791 - val_accuracy: 0.8675 - val_precision: 0.9061 - val_recall: 0.8200\n",
            "Epoch 11/300\n",
            "51/51 [==============================] - 8s 136ms/step - loss: 0.1805 - accuracy: 0.9422 - precision: 0.9384 - recall: 0.9466 - val_loss: 0.2753 - val_accuracy: 0.8700 - val_precision: 0.9022 - val_recall: 0.8300\n",
            "Epoch 12/300\n",
            "51/51 [==============================] - 8s 136ms/step - loss: 0.1732 - accuracy: 0.9453 - precision: 0.9442 - recall: 0.9466 - val_loss: 0.2831 - val_accuracy: 0.8750 - val_precision: 0.9213 - val_recall: 0.8200\n",
            "Epoch 13/300\n",
            "51/51 [==============================] - 8s 137ms/step - loss: 0.1677 - accuracy: 0.9466 - precision: 0.9477 - recall: 0.9453 - val_loss: 0.2689 - val_accuracy: 0.8750 - val_precision: 0.9032 - val_recall: 0.8400\n",
            "Epoch 14/300\n",
            "51/51 [==============================] - 9s 142ms/step - loss: 0.1631 - accuracy: 0.9497 - precision: 0.9480 - recall: 0.9516 - val_loss: 0.2650 - val_accuracy: 0.8775 - val_precision: 0.8995 - val_recall: 0.8500\n",
            "Epoch 15/300\n",
            "51/51 [==============================] - 9s 142ms/step - loss: 0.1558 - accuracy: 0.9516 - precision: 0.9549 - recall: 0.9478 - val_loss: 0.2766 - val_accuracy: 0.8675 - val_precision: 0.9016 - val_recall: 0.8250\n",
            "Epoch 16/300\n",
            "51/51 [==============================] - 8s 140ms/step - loss: 0.1529 - accuracy: 0.9553 - precision: 0.9530 - recall: 0.9578 - val_loss: 0.2858 - val_accuracy: 0.8775 - val_precision: 0.9314 - val_recall: 0.8150\n",
            "Epoch 17/300\n",
            "51/51 [==============================] - 8s 139ms/step - loss: 0.1494 - accuracy: 0.9534 - precision: 0.9540 - recall: 0.9528 - val_loss: 0.2790 - val_accuracy: 0.8750 - val_precision: 0.9167 - val_recall: 0.8250\n",
            "Epoch 18/300\n",
            "51/51 [==============================] - 9s 142ms/step - loss: 0.1420 - accuracy: 0.9615 - precision: 0.9626 - recall: 0.9602 - val_loss: 0.2729 - val_accuracy: 0.8700 - val_precision: 0.9022 - val_recall: 0.8300\n",
            "Epoch 19/300\n",
            "51/51 [==============================] - 9s 144ms/step - loss: 0.1370 - accuracy: 0.9596 - precision: 0.9613 - recall: 0.9578 - val_loss: 0.2678 - val_accuracy: 0.8750 - val_precision: 0.9032 - val_recall: 0.8400\n",
            "Epoch 20/300\n",
            "51/51 [==============================] - 9s 140ms/step - loss: 0.1344 - accuracy: 0.9621 - precision: 0.9638 - recall: 0.9602 - val_loss: 0.2729 - val_accuracy: 0.8750 - val_precision: 0.9121 - val_recall: 0.8300\n",
            "Epoch 21/300\n",
            "51/51 [==============================] - 9s 141ms/step - loss: 0.1320 - accuracy: 0.9652 - precision: 0.9699 - recall: 0.9602 - val_loss: 0.2683 - val_accuracy: 0.8775 - val_precision: 0.9081 - val_recall: 0.8400\n",
            "Epoch 22/300\n",
            "51/51 [==============================] - 9s 146ms/step - loss: 0.1289 - accuracy: 0.9621 - precision: 0.9627 - recall: 0.9615 - val_loss: 0.2664 - val_accuracy: 0.8775 - val_precision: 0.8995 - val_recall: 0.8500\n",
            "Epoch 23/300\n",
            "51/51 [==============================] - 9s 143ms/step - loss: 0.1253 - accuracy: 0.9621 - precision: 0.9604 - recall: 0.9640 - val_loss: 0.2722 - val_accuracy: 0.8825 - val_precision: 0.9180 - val_recall: 0.8400\n",
            "Epoch 24/300\n",
            "51/51 [==============================] - 8s 138ms/step - loss: 0.1226 - accuracy: 0.9646 - precision: 0.9652 - recall: 0.9640 - val_loss: 0.2652 - val_accuracy: 0.8775 - val_precision: 0.8995 - val_recall: 0.8500\n",
            "Epoch 25/300\n",
            "51/51 [==============================] - 8s 140ms/step - loss: 0.1187 - accuracy: 0.9671 - precision: 0.9677 - recall: 0.9665 - val_loss: 0.2666 - val_accuracy: 0.8825 - val_precision: 0.9091 - val_recall: 0.8500\n",
            "Epoch 26/300\n",
            "51/51 [==============================] - 8s 138ms/step - loss: 0.1169 - accuracy: 0.9671 - precision: 0.9642 - recall: 0.9702 - val_loss: 0.2701 - val_accuracy: 0.8800 - val_precision: 0.9086 - val_recall: 0.8450\n",
            "Epoch 27/300\n",
            "51/51 [==============================] - 8s 139ms/step - loss: 0.1142 - accuracy: 0.9671 - precision: 0.9665 - recall: 0.9677 - val_loss: 0.2791 - val_accuracy: 0.8750 - val_precision: 0.9167 - val_recall: 0.8250\n",
            "Epoch 28/300\n",
            "51/51 [==============================] - 8s 139ms/step - loss: 0.1106 - accuracy: 0.9702 - precision: 0.9714 - recall: 0.9689 - val_loss: 0.2803 - val_accuracy: 0.8775 - val_precision: 0.9171 - val_recall: 0.8300\n",
            "Epoch 29/300\n",
            "51/51 [==============================] - 8s 138ms/step - loss: 0.1107 - accuracy: 0.9665 - precision: 0.9723 - recall: 0.9602 - val_loss: 0.2816 - val_accuracy: 0.8775 - val_precision: 0.9171 - val_recall: 0.8300\n",
            "Epoch 30/300\n",
            "51/51 [==============================] - 8s 138ms/step - loss: 0.1055 - accuracy: 0.9714 - precision: 0.9726 - recall: 0.9702 - val_loss: 0.2660 - val_accuracy: 0.8975 - val_precision: 0.9119 - val_recall: 0.8800\n",
            "Epoch 31/300\n",
            "51/51 [==============================] - 8s 137ms/step - loss: 0.1059 - accuracy: 0.9739 - precision: 0.9751 - recall: 0.9727 - val_loss: 0.2748 - val_accuracy: 0.8800 - val_precision: 0.9086 - val_recall: 0.8450\n",
            "Epoch 32/300\n",
            "51/51 [==============================] - 8s 139ms/step - loss: 0.1038 - accuracy: 0.9752 - precision: 0.9787 - recall: 0.9714 - val_loss: 0.2780 - val_accuracy: 0.8775 - val_precision: 0.9171 - val_recall: 0.8300\n",
            "Epoch 33/300\n",
            "51/51 [==============================] - 8s 138ms/step - loss: 0.1002 - accuracy: 0.9727 - precision: 0.9727 - recall: 0.9727 - val_loss: 0.2787 - val_accuracy: 0.8825 - val_precision: 0.9180 - val_recall: 0.8400\n",
            "Epoch 34/300\n",
            "51/51 [==============================] - 9s 143ms/step - loss: 0.0984 - accuracy: 0.9739 - precision: 0.9739 - recall: 0.9739 - val_loss: 0.2768 - val_accuracy: 0.8850 - val_precision: 0.9096 - val_recall: 0.8550\n",
            "Epoch 35/300\n",
            "51/51 [==============================] - 8s 140ms/step - loss: 0.0971 - accuracy: 0.9770 - precision: 0.9764 - recall: 0.9776 - val_loss: 0.2785 - val_accuracy: 0.8800 - val_precision: 0.9130 - val_recall: 0.8400\n",
            "Epoch 36/300\n",
            "51/51 [==============================] - 9s 142ms/step - loss: 0.0942 - accuracy: 0.9783 - precision: 0.9812 - recall: 0.9752 - val_loss: 0.2762 - val_accuracy: 0.8900 - val_precision: 0.9105 - val_recall: 0.8650\n",
            "Epoch 37/300\n",
            "51/51 [==============================] - 9s 144ms/step - loss: 0.0920 - accuracy: 0.9789 - precision: 0.9801 - recall: 0.9776 - val_loss: 0.2736 - val_accuracy: 0.8950 - val_precision: 0.9115 - val_recall: 0.8750\n",
            "Epoch 38/300\n",
            "51/51 [==============================] - 9s 141ms/step - loss: 0.0905 - accuracy: 0.9795 - precision: 0.9813 - recall: 0.9776 - val_loss: 0.2780 - val_accuracy: 0.8900 - val_precision: 0.9105 - val_recall: 0.8650\n",
            "Epoch 39/300\n",
            "51/51 [==============================] - 9s 141ms/step - loss: 0.0891 - accuracy: 0.9789 - precision: 0.9825 - recall: 0.9752 - val_loss: 0.2820 - val_accuracy: 0.8850 - val_precision: 0.9096 - val_recall: 0.8550\n",
            "Epoch 40/300\n",
            "51/51 [==============================] - 9s 142ms/step - loss: 0.0868 - accuracy: 0.9820 - precision: 0.9862 - recall: 0.9776 - val_loss: 0.2754 - val_accuracy: 0.8950 - val_precision: 0.9115 - val_recall: 0.8750\n",
            "Epoch 41/300\n",
            "51/51 [==============================] - 9s 140ms/step - loss: 0.0871 - accuracy: 0.9789 - precision: 0.9789 - recall: 0.9789 - val_loss: 0.2816 - val_accuracy: 0.8850 - val_precision: 0.9096 - val_recall: 0.8550\n",
            "Epoch 42/300\n",
            "51/51 [==============================] - 8s 139ms/step - loss: 0.0842 - accuracy: 0.9832 - precision: 0.9887 - recall: 0.9776 - val_loss: 0.2769 - val_accuracy: 0.8950 - val_precision: 0.9115 - val_recall: 0.8750\n",
            "Epoch 43/300\n",
            "51/51 [==============================] - 9s 142ms/step - loss: 0.0846 - accuracy: 0.9789 - precision: 0.9789 - recall: 0.9789 - val_loss: 0.2826 - val_accuracy: 0.8925 - val_precision: 0.9198 - val_recall: 0.8600\n",
            "Epoch 44/300\n",
            "51/51 [==============================] - 9s 150ms/step - loss: 0.0809 - accuracy: 0.9851 - precision: 0.9875 - recall: 0.9826 - val_loss: 0.2803 - val_accuracy: 0.8925 - val_precision: 0.9110 - val_recall: 0.8700\n",
            "Epoch 45/300\n",
            "51/51 [==============================] - 9s 145ms/step - loss: 0.0812 - accuracy: 0.9814 - precision: 0.9802 - recall: 0.9826 - val_loss: 0.2866 - val_accuracy: 0.8900 - val_precision: 0.9194 - val_recall: 0.8550\n",
            "Epoch 46/300\n",
            "51/51 [==============================] - 8s 140ms/step - loss: 0.0787 - accuracy: 0.9851 - precision: 0.9863 - recall: 0.9839 - val_loss: 0.2823 - val_accuracy: 0.8925 - val_precision: 0.9110 - val_recall: 0.8700\n",
            "Epoch 47/300\n",
            "51/51 [==============================] - 8s 140ms/step - loss: 0.0788 - accuracy: 0.9851 - precision: 0.9875 - recall: 0.9826 - val_loss: 0.2861 - val_accuracy: 0.8875 - val_precision: 0.9101 - val_recall: 0.8600\n",
            "Epoch 48/300\n",
            "51/51 [==============================] - 9s 142ms/step - loss: 0.0762 - accuracy: 0.9845 - precision: 0.9875 - recall: 0.9814 - val_loss: 0.2877 - val_accuracy: 0.8950 - val_precision: 0.9202 - val_recall: 0.8650\n",
            "Epoch 49/300\n",
            "51/51 [==============================] - 8s 139ms/step - loss: 0.0749 - accuracy: 0.9870 - precision: 0.9912 - recall: 0.9826 - val_loss: 0.2851 - val_accuracy: 0.8925 - val_precision: 0.9110 - val_recall: 0.8700\n",
            "Epoch 50/300\n",
            "51/51 [==============================] - 9s 140ms/step - loss: 0.0746 - accuracy: 0.9863 - precision: 0.9875 - recall: 0.9851 - val_loss: 0.2956 - val_accuracy: 0.8900 - val_precision: 0.9239 - val_recall: 0.8500\n",
            "Epoch 51/300\n",
            "51/51 [==============================] - 8s 138ms/step - loss: 0.0713 - accuracy: 0.9870 - precision: 0.9912 - recall: 0.9826 - val_loss: 0.2899 - val_accuracy: 0.8925 - val_precision: 0.9110 - val_recall: 0.8700\n",
            "Epoch 52/300\n",
            "51/51 [==============================] - 9s 144ms/step - loss: 0.0716 - accuracy: 0.9870 - precision: 0.9912 - recall: 0.9826 - val_loss: 0.2970 - val_accuracy: 0.8900 - val_precision: 0.9239 - val_recall: 0.8500\n",
            "Epoch 53/300\n",
            "51/51 [==============================] - 8s 138ms/step - loss: 0.0703 - accuracy: 0.9870 - precision: 0.9900 - recall: 0.9839 - val_loss: 0.2924 - val_accuracy: 0.8900 - val_precision: 0.9105 - val_recall: 0.8650\n",
            "Epoch 54/300\n",
            "51/51 [==============================] - 8s 138ms/step - loss: 0.0688 - accuracy: 0.9888 - precision: 0.9900 - recall: 0.9876 - val_loss: 0.2959 - val_accuracy: 0.8875 - val_precision: 0.9101 - val_recall: 0.8600\n",
            "Epoch 55/300\n",
            "51/51 [==============================] - 9s 147ms/step - loss: 0.0686 - accuracy: 0.9888 - precision: 0.9913 - recall: 0.9863 - val_loss: 0.2963 - val_accuracy: 0.8875 - val_precision: 0.9101 - val_recall: 0.8600\n",
            "Epoch 56/300\n",
            "51/51 [==============================] - 9s 143ms/step - loss: 0.0659 - accuracy: 0.9888 - precision: 0.9925 - recall: 0.9851 - val_loss: 0.2919 - val_accuracy: 0.8975 - val_precision: 0.9119 - val_recall: 0.8800\n",
            "Epoch 57/300\n",
            "51/51 [==============================] - 9s 144ms/step - loss: 0.0661 - accuracy: 0.9907 - precision: 0.9937 - recall: 0.9876 - val_loss: 0.2897 - val_accuracy: 0.9000 - val_precision: 0.9124 - val_recall: 0.8850\n",
            "Epoch 58/300\n",
            "51/51 [==============================] - 9s 146ms/step - loss: 0.0648 - accuracy: 0.9901 - precision: 0.9901 - recall: 0.9901 - val_loss: 0.2931 - val_accuracy: 0.8975 - val_precision: 0.9119 - val_recall: 0.8800\n",
            "Epoch 59/300\n",
            "51/51 [==============================] - 9s 141ms/step - loss: 0.0640 - accuracy: 0.9894 - precision: 0.9913 - recall: 0.9876 - val_loss: 0.3027 - val_accuracy: 0.8925 - val_precision: 0.9153 - val_recall: 0.8650\n",
            "Epoch 60/300\n",
            "51/51 [==============================] - 9s 142ms/step - loss: 0.0630 - accuracy: 0.9894 - precision: 0.9913 - recall: 0.9876 - val_loss: 0.2948 - val_accuracy: 0.9025 - val_precision: 0.9128 - val_recall: 0.8900\n",
            "Epoch 61/300\n",
            "51/51 [==============================] - 9s 142ms/step - loss: 0.0616 - accuracy: 0.9901 - precision: 0.9937 - recall: 0.9863 - val_loss: 0.2994 - val_accuracy: 0.8975 - val_precision: 0.9119 - val_recall: 0.8800\n",
            "Epoch 62/300\n",
            "51/51 [==============================] - 8s 138ms/step - loss: 0.0612 - accuracy: 0.9901 - precision: 0.9913 - recall: 0.9888 - val_loss: 0.3104 - val_accuracy: 0.8950 - val_precision: 0.9247 - val_recall: 0.8600\n",
            "Epoch 63/300\n",
            "51/51 [==============================] - 8s 137ms/step - loss: 0.0587 - accuracy: 0.9901 - precision: 0.9937 - recall: 0.9863 - val_loss: 0.3082 - val_accuracy: 0.8950 - val_precision: 0.9202 - val_recall: 0.8650\n",
            "Epoch 64/300\n",
            "51/51 [==============================] - 8s 139ms/step - loss: 0.0572 - accuracy: 0.9913 - precision: 0.9950 - recall: 0.9876 - val_loss: 0.3026 - val_accuracy: 0.8950 - val_precision: 0.9115 - val_recall: 0.8750\n",
            "Epoch 65/300\n",
            "51/51 [==============================] - 9s 142ms/step - loss: 0.0569 - accuracy: 0.9919 - precision: 0.9938 - recall: 0.9901 - val_loss: 0.2981 - val_accuracy: 0.9025 - val_precision: 0.9128 - val_recall: 0.8900\n",
            "Epoch 66/300\n",
            "51/51 [==============================] - 9s 141ms/step - loss: 0.0570 - accuracy: 0.9894 - precision: 0.9913 - recall: 0.9876 - val_loss: 0.3048 - val_accuracy: 0.8950 - val_precision: 0.9115 - val_recall: 0.8750\n",
            "Epoch 67/300\n",
            "51/51 [==============================] - 8s 140ms/step - loss: 0.0562 - accuracy: 0.9894 - precision: 0.9937 - recall: 0.9851 - val_loss: 0.3094 - val_accuracy: 0.8950 - val_precision: 0.9158 - val_recall: 0.8700\n",
            "Epoch 68/300\n",
            "51/51 [==============================] - 9s 144ms/step - loss: 0.0544 - accuracy: 0.9925 - precision: 0.9962 - recall: 0.9888 - val_loss: 0.3072 - val_accuracy: 0.8950 - val_precision: 0.9158 - val_recall: 0.8700\n",
            "Epoch 69/300\n",
            "51/51 [==============================] - 9s 144ms/step - loss: 0.0531 - accuracy: 0.9944 - precision: 0.9975 - recall: 0.9913 - val_loss: 0.3068 - val_accuracy: 0.8950 - val_precision: 0.9115 - val_recall: 0.8750\n",
            "Epoch 70/300\n",
            "51/51 [==============================] - 9s 143ms/step - loss: 0.0538 - accuracy: 0.9919 - precision: 0.9938 - recall: 0.9901 - val_loss: 0.3121 - val_accuracy: 0.8950 - val_precision: 0.9158 - val_recall: 0.8700\n",
            "Epoch 71/300\n",
            "51/51 [==============================] - 9s 141ms/step - loss: 0.0513 - accuracy: 0.9925 - precision: 0.9950 - recall: 0.9901 - val_loss: 0.3136 - val_accuracy: 0.8975 - val_precision: 0.9206 - val_recall: 0.8700\n",
            "Epoch 72/300\n",
            "51/51 [==============================] - 9s 142ms/step - loss: 0.0512 - accuracy: 0.9925 - precision: 0.9962 - recall: 0.9888 - val_loss: 0.3140 - val_accuracy: 0.8950 - val_precision: 0.9158 - val_recall: 0.8700\n",
            "Epoch 73/300\n",
            "51/51 [==============================] - 9s 142ms/step - loss: 0.0516 - accuracy: 0.9919 - precision: 0.9950 - recall: 0.9888 - val_loss: 0.3259 - val_accuracy: 0.8950 - val_precision: 0.9293 - val_recall: 0.8550\n",
            "Epoch 74/300\n",
            "51/51 [==============================] - 8s 139ms/step - loss: 0.0496 - accuracy: 0.9925 - precision: 0.9975 - recall: 0.9876 - val_loss: 0.3148 - val_accuracy: 0.9000 - val_precision: 0.9211 - val_recall: 0.8750\n",
            "Epoch 75/300\n",
            "51/51 [==============================] - 9s 140ms/step - loss: 0.0492 - accuracy: 0.9913 - precision: 0.9950 - recall: 0.9876 - val_loss: 0.3129 - val_accuracy: 0.8950 - val_precision: 0.9115 - val_recall: 0.8750\n",
            "Epoch 76/300\n",
            "51/51 [==============================] - 9s 141ms/step - loss: 0.0484 - accuracy: 0.9919 - precision: 0.9938 - recall: 0.9901 - val_loss: 0.3146 - val_accuracy: 0.8975 - val_precision: 0.9119 - val_recall: 0.8800\n",
            "Epoch 77/300\n",
            "51/51 [==============================] - 8s 137ms/step - loss: 0.0467 - accuracy: 0.9932 - precision: 0.9962 - recall: 0.9901 - val_loss: 0.3182 - val_accuracy: 0.9025 - val_precision: 0.9215 - val_recall: 0.8800\n",
            "Epoch 78/300\n",
            "51/51 [==============================] - 8s 141ms/step - loss: 0.0465 - accuracy: 0.9944 - precision: 0.9975 - recall: 0.9913 - val_loss: 0.3235 - val_accuracy: 0.8975 - val_precision: 0.9251 - val_recall: 0.8650\n",
            "Epoch 79/300\n",
            "51/51 [==============================] - 8s 140ms/step - loss: 0.0459 - accuracy: 0.9938 - precision: 0.9975 - recall: 0.9901 - val_loss: 0.3207 - val_accuracy: 0.9000 - val_precision: 0.9167 - val_recall: 0.8800\n",
            "Epoch 80/300\n",
            "51/51 [==============================] - 8s 140ms/step - loss: 0.0461 - accuracy: 0.9944 - precision: 0.9987 - recall: 0.9901 - val_loss: 0.3200 - val_accuracy: 0.8975 - val_precision: 0.9119 - val_recall: 0.8800\n",
            "Epoch 81/300\n",
            "51/51 [==============================] - 9s 141ms/step - loss: 0.0445 - accuracy: 0.9938 - precision: 0.9963 - recall: 0.9913 - val_loss: 0.3243 - val_accuracy: 0.9000 - val_precision: 0.9211 - val_recall: 0.8750\n",
            "Epoch 82/300\n",
            "51/51 [==============================] - 8s 140ms/step - loss: 0.0441 - accuracy: 0.9938 - precision: 0.9987 - recall: 0.9888 - val_loss: 0.3291 - val_accuracy: 0.9000 - val_precision: 0.9255 - val_recall: 0.8700\n",
            "Epoch 83/300\n",
            "51/51 [==============================] - 8s 140ms/step - loss: 0.0431 - accuracy: 0.9932 - precision: 0.9962 - recall: 0.9901 - val_loss: 0.3272 - val_accuracy: 0.8925 - val_precision: 0.9110 - val_recall: 0.8700\n",
            "Epoch 84/300\n",
            "51/51 [==============================] - 8s 137ms/step - loss: 0.0426 - accuracy: 0.9963 - precision: 0.9975 - recall: 0.9950 - val_loss: 0.3336 - val_accuracy: 0.8975 - val_precision: 0.9251 - val_recall: 0.8650\n",
            "Epoch 85/300\n",
            "51/51 [==============================] - 8s 136ms/step - loss: 0.0410 - accuracy: 0.9957 - precision: 0.9975 - recall: 0.9938 - val_loss: 0.3304 - val_accuracy: 0.8925 - val_precision: 0.9110 - val_recall: 0.8700\n",
            "Epoch 86/300\n",
            "51/51 [==============================] - 8s 137ms/step - loss: 0.0416 - accuracy: 0.9944 - precision: 0.9950 - recall: 0.9938 - val_loss: 0.3264 - val_accuracy: 0.9025 - val_precision: 0.9128 - val_recall: 0.8900\n",
            "Epoch 87/300\n",
            "51/51 [==============================] - 8s 136ms/step - loss: 0.0404 - accuracy: 0.9963 - precision: 0.9988 - recall: 0.9938 - val_loss: 0.3305 - val_accuracy: 0.9050 - val_precision: 0.9175 - val_recall: 0.8900\n",
            "Epoch 88/300\n",
            "51/51 [==============================] - 8s 136ms/step - loss: 0.0399 - accuracy: 0.9975 - precision: 0.9988 - recall: 0.9963 - val_loss: 0.3382 - val_accuracy: 0.8975 - val_precision: 0.9251 - val_recall: 0.8650\n",
            "Epoch 89/300\n",
            "51/51 [==============================] - 8s 137ms/step - loss: 0.0397 - accuracy: 0.9963 - precision: 0.9988 - recall: 0.9938 - val_loss: 0.3338 - val_accuracy: 0.9000 - val_precision: 0.9167 - val_recall: 0.8800\n",
            "Epoch 90/300\n",
            "51/51 [==============================] - 8s 136ms/step - loss: 0.0384 - accuracy: 0.9963 - precision: 0.9988 - recall: 0.9938 - val_loss: 0.3309 - val_accuracy: 0.9000 - val_precision: 0.9082 - val_recall: 0.8900\n",
            "Epoch 91/300\n",
            "51/51 [==============================] - 8s 136ms/step - loss: 0.0378 - accuracy: 0.9969 - precision: 0.9988 - recall: 0.9950 - val_loss: 0.3401 - val_accuracy: 0.9000 - val_precision: 0.9255 - val_recall: 0.8700\n",
            "Epoch 92/300\n",
            "51/51 [==============================] - 8s 136ms/step - loss: 0.0377 - accuracy: 0.9963 - precision: 0.9975 - recall: 0.9950 - val_loss: 0.3401 - val_accuracy: 0.8950 - val_precision: 0.9158 - val_recall: 0.8700\n",
            "Epoch 93/300\n",
            "51/51 [==============================] - 8s 137ms/step - loss: 0.0366 - accuracy: 0.9975 - precision: 0.9988 - recall: 0.9963 - val_loss: 0.3436 - val_accuracy: 0.8975 - val_precision: 0.9251 - val_recall: 0.8650\n",
            "Epoch 94/300\n",
            "51/51 [==============================] - 8s 137ms/step - loss: 0.0358 - accuracy: 0.9957 - precision: 0.9975 - recall: 0.9938 - val_loss: 0.3368 - val_accuracy: 0.9025 - val_precision: 0.9128 - val_recall: 0.8900\n",
            "Epoch 95/300\n",
            "51/51 [==============================] - 8s 136ms/step - loss: 0.0367 - accuracy: 0.9963 - precision: 0.9988 - recall: 0.9938 - val_loss: 0.3441 - val_accuracy: 0.9000 - val_precision: 0.9255 - val_recall: 0.8700\n",
            "Epoch 96/300\n",
            "51/51 [==============================] - 8s 135ms/step - loss: 0.0353 - accuracy: 0.9969 - precision: 0.9975 - recall: 0.9963 - val_loss: 0.3426 - val_accuracy: 0.8950 - val_precision: 0.9158 - val_recall: 0.8700\n",
            "Epoch 97/300\n",
            "51/51 [==============================] - 8s 136ms/step - loss: 0.0346 - accuracy: 0.9969 - precision: 0.9988 - recall: 0.9950 - val_loss: 0.3454 - val_accuracy: 0.8975 - val_precision: 0.9206 - val_recall: 0.8700\n",
            "Epoch 98/300\n",
            "51/51 [==============================] - 8s 137ms/step - loss: 0.0341 - accuracy: 0.9981 - precision: 1.0000 - recall: 0.9963 - val_loss: 0.3439 - val_accuracy: 0.9000 - val_precision: 0.9124 - val_recall: 0.8850\n",
            "Epoch 99/300\n",
            "51/51 [==============================] - 8s 137ms/step - loss: 0.0341 - accuracy: 0.9963 - precision: 0.9988 - recall: 0.9938 - val_loss: 0.3530 - val_accuracy: 0.8975 - val_precision: 0.9251 - val_recall: 0.8650\n",
            "Epoch 100/300\n",
            "51/51 [==============================] - 8s 136ms/step - loss: 0.0331 - accuracy: 0.9975 - precision: 0.9988 - recall: 0.9963 - val_loss: 0.3618 - val_accuracy: 0.9000 - val_precision: 0.9301 - val_recall: 0.8650\n",
            "Epoch 101/300\n",
            "51/51 [==============================] - 8s 136ms/step - loss: 0.0321 - accuracy: 0.9981 - precision: 1.0000 - recall: 0.9963 - val_loss: 0.3497 - val_accuracy: 0.9000 - val_precision: 0.9167 - val_recall: 0.8800\n",
            "Epoch 102/300\n",
            "51/51 [==============================] - 8s 137ms/step - loss: 0.0322 - accuracy: 0.9975 - precision: 0.9988 - recall: 0.9963 - val_loss: 0.3537 - val_accuracy: 0.9000 - val_precision: 0.9255 - val_recall: 0.8700\n",
            "Epoch 103/300\n",
            "51/51 [==============================] - 8s 137ms/step - loss: 0.0318 - accuracy: 0.9981 - precision: 1.0000 - recall: 0.9963 - val_loss: 0.3568 - val_accuracy: 0.8975 - val_precision: 0.9251 - val_recall: 0.8650\n",
            "Epoch 104/300\n",
            "51/51 [==============================] - 8s 136ms/step - loss: 0.0310 - accuracy: 0.9988 - precision: 0.9988 - recall: 0.9988 - val_loss: 0.3593 - val_accuracy: 0.9000 - val_precision: 0.9255 - val_recall: 0.8700\n",
            "Epoch 105/300\n",
            "51/51 [==============================] - 8s 137ms/step - loss: 0.0302 - accuracy: 0.9981 - precision: 1.0000 - recall: 0.9963 - val_loss: 0.3559 - val_accuracy: 0.8975 - val_precision: 0.9206 - val_recall: 0.8700\n",
            "Epoch 106/300\n",
            "51/51 [==============================] - 8s 137ms/step - loss: 0.0302 - accuracy: 0.9969 - precision: 0.9975 - recall: 0.9963 - val_loss: 0.3531 - val_accuracy: 0.9000 - val_precision: 0.9124 - val_recall: 0.8850\n",
            "Epoch 107/300\n",
            "51/51 [==============================] - 8s 136ms/step - loss: 0.0302 - accuracy: 0.9975 - precision: 0.9988 - recall: 0.9963 - val_loss: 0.3622 - val_accuracy: 0.9000 - val_precision: 0.9255 - val_recall: 0.8700\n",
            "Epoch 108/300\n",
            "51/51 [==============================] - 8s 137ms/step - loss: 0.0293 - accuracy: 0.9988 - precision: 1.0000 - recall: 0.9975 - val_loss: 0.3639 - val_accuracy: 0.9000 - val_precision: 0.9255 - val_recall: 0.8700\n",
            "Epoch 109/300\n",
            "51/51 [==============================] - 8s 136ms/step - loss: 0.0288 - accuracy: 0.9988 - precision: 1.0000 - recall: 0.9975 - val_loss: 0.3607 - val_accuracy: 0.8975 - val_precision: 0.9206 - val_recall: 0.8700\n",
            "Epoch 110/300\n",
            "51/51 [==============================] - 8s 137ms/step - loss: 0.0289 - accuracy: 0.9988 - precision: 1.0000 - recall: 0.9975 - val_loss: 0.3672 - val_accuracy: 0.9000 - val_precision: 0.9255 - val_recall: 0.8700\n",
            "Epoch 111/300\n",
            "51/51 [==============================] - 8s 136ms/step - loss: 0.0280 - accuracy: 0.9988 - precision: 1.0000 - recall: 0.9975 - val_loss: 0.3672 - val_accuracy: 0.9000 - val_precision: 0.9255 - val_recall: 0.8700\n",
            "Epoch 112/300\n",
            "51/51 [==============================] - 8s 135ms/step - loss: 0.0276 - accuracy: 0.9988 - precision: 1.0000 - recall: 0.9975 - val_loss: 0.3670 - val_accuracy: 0.9000 - val_precision: 0.9211 - val_recall: 0.8750\n",
            "Epoch 113/300\n",
            "51/51 [==============================] - 8s 135ms/step - loss: 0.0274 - accuracy: 0.9988 - precision: 0.9988 - recall: 0.9988 - val_loss: 0.3647 - val_accuracy: 0.9000 - val_precision: 0.9124 - val_recall: 0.8850\n",
            "Epoch 114/300\n",
            "51/51 [==============================] - 8s 136ms/step - loss: 0.0272 - accuracy: 0.9988 - precision: 1.0000 - recall: 0.9975 - val_loss: 0.3705 - val_accuracy: 0.8975 - val_precision: 0.9206 - val_recall: 0.8700\n",
            "Epoch 115/300\n",
            "51/51 [==============================] - 8s 136ms/step - loss: 0.0264 - accuracy: 0.9994 - precision: 1.0000 - recall: 0.9988 - val_loss: 0.3683 - val_accuracy: 0.9000 - val_precision: 0.9167 - val_recall: 0.8800\n",
            "Epoch 116/300\n",
            "51/51 [==============================] - 8s 136ms/step - loss: 0.0260 - accuracy: 0.9988 - precision: 1.0000 - recall: 0.9975 - val_loss: 0.3679 - val_accuracy: 0.9025 - val_precision: 0.9128 - val_recall: 0.8900\n",
            "Epoch 117/300\n",
            "51/51 [==============================] - 8s 136ms/step - loss: 0.0261 - accuracy: 0.9994 - precision: 1.0000 - recall: 0.9988 - val_loss: 0.3845 - val_accuracy: 0.9000 - val_precision: 0.9301 - val_recall: 0.8650\n",
            "Epoch 118/300\n",
            "51/51 [==============================] - 8s 136ms/step - loss: 0.0255 - accuracy: 0.9994 - precision: 1.0000 - recall: 0.9988 - val_loss: 0.3818 - val_accuracy: 0.9000 - val_precision: 0.9255 - val_recall: 0.8700\n",
            "Epoch 119/300\n",
            "51/51 [==============================] - 8s 137ms/step - loss: 0.0251 - accuracy: 0.9994 - precision: 1.0000 - recall: 0.9988 - val_loss: 0.3740 - val_accuracy: 0.9025 - val_precision: 0.9215 - val_recall: 0.8800\n",
            "Epoch 120/300\n",
            "51/51 [==============================] - 8s 137ms/step - loss: 0.0251 - accuracy: 0.9994 - precision: 1.0000 - recall: 0.9988 - val_loss: 0.3748 - val_accuracy: 0.9025 - val_precision: 0.9215 - val_recall: 0.8800\n",
            "Epoch 121/300\n",
            "51/51 [==============================] - 8s 136ms/step - loss: 0.0246 - accuracy: 0.9994 - precision: 1.0000 - recall: 0.9988 - val_loss: 0.3775 - val_accuracy: 0.9075 - val_precision: 0.9267 - val_recall: 0.8850\n",
            "Epoch 122/300\n",
            "51/51 [==============================] - 8s 136ms/step - loss: 0.0246 - accuracy: 0.9994 - precision: 1.0000 - recall: 0.9988 - val_loss: 0.3782 - val_accuracy: 0.9075 - val_precision: 0.9267 - val_recall: 0.8850\n",
            "Epoch 123/300\n",
            "51/51 [==============================] - 8s 135ms/step - loss: 0.0233 - accuracy: 0.9994 - precision: 1.0000 - recall: 0.9988 - val_loss: 0.3785 - val_accuracy: 0.9025 - val_precision: 0.9171 - val_recall: 0.8850\n",
            "Epoch 124/300\n",
            "51/51 [==============================] - 8s 136ms/step - loss: 0.0234 - accuracy: 0.9994 - precision: 1.0000 - recall: 0.9988 - val_loss: 0.3796 - val_accuracy: 0.9025 - val_precision: 0.9171 - val_recall: 0.8850\n",
            "Epoch 125/300\n",
            "51/51 [==============================] - 8s 136ms/step - loss: 0.0228 - accuracy: 1.0000 - precision: 1.0000 - recall: 1.0000 - val_loss: 0.3852 - val_accuracy: 0.9000 - val_precision: 0.9211 - val_recall: 0.8750\n",
            "Epoch 126/300\n",
            "51/51 [==============================] - 8s 137ms/step - loss: 0.0227 - accuracy: 0.9994 - precision: 1.0000 - recall: 0.9988 - val_loss: 0.3886 - val_accuracy: 0.9025 - val_precision: 0.9305 - val_recall: 0.8700\n",
            "Epoch 127/300\n",
            "51/51 [==============================] - 8s 136ms/step - loss: 0.0224 - accuracy: 0.9994 - precision: 1.0000 - recall: 0.9988 - val_loss: 0.3885 - val_accuracy: 0.8975 - val_precision: 0.9206 - val_recall: 0.8700\n",
            "Epoch 128/300\n",
            "51/51 [==============================] - 8s 137ms/step - loss: 0.0226 - accuracy: 0.9994 - precision: 1.0000 - recall: 0.9988 - val_loss: 0.3958 - val_accuracy: 0.9025 - val_precision: 0.9305 - val_recall: 0.8700\n",
            "Epoch 129/300\n",
            "51/51 [==============================] - 8s 136ms/step - loss: 0.0223 - accuracy: 1.0000 - precision: 1.0000 - recall: 1.0000 - val_loss: 0.4053 - val_accuracy: 0.8900 - val_precision: 0.9286 - val_recall: 0.8450\n",
            "Epoch 130/300\n",
            "51/51 [==============================] - 8s 136ms/step - loss: 0.0212 - accuracy: 1.0000 - precision: 1.0000 - recall: 1.0000 - val_loss: 0.3939 - val_accuracy: 0.9000 - val_precision: 0.9255 - val_recall: 0.8700\n",
            "Epoch 131/300\n",
            "51/51 [==============================] - 8s 135ms/step - loss: 0.0208 - accuracy: 1.0000 - precision: 1.0000 - recall: 1.0000 - val_loss: 0.3959 - val_accuracy: 0.9000 - val_precision: 0.9255 - val_recall: 0.8700\n",
            "Epoch 132/300\n",
            "51/51 [==============================] - 8s 136ms/step - loss: 0.0207 - accuracy: 1.0000 - precision: 1.0000 - recall: 1.0000 - val_loss: 0.3981 - val_accuracy: 0.9025 - val_precision: 0.9305 - val_recall: 0.8700\n",
            "Epoch 133/300\n",
            "51/51 [==============================] - 8s 137ms/step - loss: 0.0209 - accuracy: 0.9994 - precision: 1.0000 - recall: 0.9988 - val_loss: 0.3926 - val_accuracy: 0.9075 - val_precision: 0.9223 - val_recall: 0.8900\n",
            "Epoch 134/300\n",
            "51/51 [==============================] - 8s 136ms/step - loss: 0.0199 - accuracy: 0.9994 - precision: 1.0000 - recall: 0.9988 - val_loss: 0.3935 - val_accuracy: 0.9025 - val_precision: 0.9128 - val_recall: 0.8900\n",
            "Epoch 135/300\n",
            "51/51 [==============================] - 8s 135ms/step - loss: 0.0197 - accuracy: 1.0000 - precision: 1.0000 - recall: 1.0000 - val_loss: 0.4003 - val_accuracy: 0.9000 - val_precision: 0.9211 - val_recall: 0.8750\n",
            "Epoch 136/300\n",
            "51/51 [==============================] - 8s 135ms/step - loss: 0.0198 - accuracy: 1.0000 - precision: 1.0000 - recall: 1.0000 - val_loss: 0.4033 - val_accuracy: 0.9000 - val_precision: 0.9211 - val_recall: 0.8750\n",
            "Epoch 137/300\n",
            "51/51 [==============================] - 8s 135ms/step - loss: 0.0192 - accuracy: 1.0000 - precision: 1.0000 - recall: 1.0000 - val_loss: 0.4042 - val_accuracy: 0.9000 - val_precision: 0.9211 - val_recall: 0.8750\n",
            "Epoch 138/300\n",
            "51/51 [==============================] - 8s 136ms/step - loss: 0.0192 - accuracy: 1.0000 - precision: 1.0000 - recall: 1.0000 - val_loss: 0.4082 - val_accuracy: 0.9000 - val_precision: 0.9211 - val_recall: 0.8750\n",
            "Epoch 139/300\n",
            "51/51 [==============================] - 8s 136ms/step - loss: 0.0190 - accuracy: 1.0000 - precision: 1.0000 - recall: 1.0000 - val_loss: 0.4072 - val_accuracy: 0.9025 - val_precision: 0.9215 - val_recall: 0.8800\n",
            "Epoch 140/300\n",
            "51/51 [==============================] - 8s 138ms/step - loss: 0.0183 - accuracy: 1.0000 - precision: 1.0000 - recall: 1.0000 - val_loss: 0.4111 - val_accuracy: 0.9025 - val_precision: 0.9259 - val_recall: 0.8750\n",
            "Epoch 141/300\n",
            "51/51 [==============================] - 8s 137ms/step - loss: 0.0178 - accuracy: 1.0000 - precision: 1.0000 - recall: 1.0000 - val_loss: 0.4069 - val_accuracy: 0.9025 - val_precision: 0.9215 - val_recall: 0.8800\n",
            "Epoch 142/300\n",
            "51/51 [==============================] - 8s 137ms/step - loss: 0.0181 - accuracy: 1.0000 - precision: 1.0000 - recall: 1.0000 - val_loss: 0.4047 - val_accuracy: 0.9025 - val_precision: 0.9128 - val_recall: 0.8900\n",
            "Epoch 143/300\n",
            "51/51 [==============================] - 8s 136ms/step - loss: 0.0182 - accuracy: 1.0000 - precision: 1.0000 - recall: 1.0000 - val_loss: 0.4132 - val_accuracy: 0.9050 - val_precision: 0.9309 - val_recall: 0.8750\n",
            "Epoch 144/300\n",
            "51/51 [==============================] - 8s 136ms/step - loss: 0.0175 - accuracy: 1.0000 - precision: 1.0000 - recall: 1.0000 - val_loss: 0.4124 - val_accuracy: 0.9025 - val_precision: 0.9215 - val_recall: 0.8800\n",
            "Epoch 145/300\n",
            "51/51 [==============================] - 8s 136ms/step - loss: 0.0169 - accuracy: 1.0000 - precision: 1.0000 - recall: 1.0000 - val_loss: 0.4065 - val_accuracy: 0.9050 - val_precision: 0.9133 - val_recall: 0.8950\n",
            "Epoch 146/300\n",
            "51/51 [==============================] - 8s 136ms/step - loss: 0.0180 - accuracy: 1.0000 - precision: 1.0000 - recall: 1.0000 - val_loss: 0.4181 - val_accuracy: 0.9050 - val_precision: 0.9309 - val_recall: 0.8750\n",
            "Epoch 147/300\n",
            "51/51 [==============================] - 8s 136ms/step - loss: 0.0166 - accuracy: 1.0000 - precision: 1.0000 - recall: 1.0000 - val_loss: 0.4198 - val_accuracy: 0.9025 - val_precision: 0.9259 - val_recall: 0.8750\n",
            "Epoch 148/300\n",
            "51/51 [==============================] - 8s 136ms/step - loss: 0.0166 - accuracy: 1.0000 - precision: 1.0000 - recall: 1.0000 - val_loss: 0.4150 - val_accuracy: 0.9050 - val_precision: 0.9175 - val_recall: 0.8900\n",
            "Epoch 149/300\n",
            "51/51 [==============================] - 8s 135ms/step - loss: 0.0163 - accuracy: 1.0000 - precision: 1.0000 - recall: 1.0000 - val_loss: 0.4232 - val_accuracy: 0.9050 - val_precision: 0.9309 - val_recall: 0.8750\n",
            "Epoch 150/300\n",
            "51/51 [==============================] - 8s 135ms/step - loss: 0.0159 - accuracy: 1.0000 - precision: 1.0000 - recall: 1.0000 - val_loss: 0.4245 - val_accuracy: 0.9025 - val_precision: 0.9259 - val_recall: 0.8750\n",
            "Epoch 151/300\n",
            "51/51 [==============================] - 8s 136ms/step - loss: 0.0156 - accuracy: 1.0000 - precision: 1.0000 - recall: 1.0000 - val_loss: 0.4173 - val_accuracy: 0.9025 - val_precision: 0.9128 - val_recall: 0.8900\n",
            "Epoch 152/300\n",
            "51/51 [==============================] - 8s 137ms/step - loss: 0.0153 - accuracy: 1.0000 - precision: 1.0000 - recall: 1.0000 - val_loss: 0.4172 - val_accuracy: 0.9075 - val_precision: 0.9137 - val_recall: 0.9000\n",
            "Epoch 153/300\n",
            "51/51 [==============================] - 8s 137ms/step - loss: 0.0158 - accuracy: 1.0000 - precision: 1.0000 - recall: 1.0000 - val_loss: 0.4244 - val_accuracy: 0.9025 - val_precision: 0.9259 - val_recall: 0.8750\n",
            "Epoch 154/300\n",
            "51/51 [==============================] - 8s 135ms/step - loss: 0.0148 - accuracy: 1.0000 - precision: 1.0000 - recall: 1.0000 - val_loss: 0.4183 - val_accuracy: 0.9075 - val_precision: 0.9137 - val_recall: 0.9000\n",
            "Epoch 155/300\n",
            "51/51 [==============================] - 8s 137ms/step - loss: 0.0151 - accuracy: 1.0000 - precision: 1.0000 - recall: 1.0000 - val_loss: 0.4237 - val_accuracy: 0.9025 - val_precision: 0.9128 - val_recall: 0.8900\n",
            "Epoch 156/300\n",
            "51/51 [==============================] - 8s 137ms/step - loss: 0.0146 - accuracy: 1.0000 - precision: 1.0000 - recall: 1.0000 - val_loss: 0.4236 - val_accuracy: 0.9025 - val_precision: 0.9128 - val_recall: 0.8900\n",
            "Epoch 157/300\n",
            "51/51 [==============================] - 8s 136ms/step - loss: 0.0147 - accuracy: 1.0000 - precision: 1.0000 - recall: 1.0000 - val_loss: 0.4350 - val_accuracy: 0.9000 - val_precision: 0.9255 - val_recall: 0.8700\n",
            "Epoch 158/300\n",
            "51/51 [==============================] - 8s 136ms/step - loss: 0.0141 - accuracy: 1.0000 - precision: 1.0000 - recall: 1.0000 - val_loss: 0.4286 - val_accuracy: 0.9050 - val_precision: 0.9175 - val_recall: 0.8900\n",
            "Epoch 159/300\n",
            "51/51 [==============================] - 8s 136ms/step - loss: 0.0139 - accuracy: 1.0000 - precision: 1.0000 - recall: 1.0000 - val_loss: 0.4311 - val_accuracy: 0.9050 - val_precision: 0.9175 - val_recall: 0.8900\n",
            "Epoch 160/300\n",
            "51/51 [==============================] - 8s 136ms/step - loss: 0.0139 - accuracy: 1.0000 - precision: 1.0000 - recall: 1.0000 - val_loss: 0.4310 - val_accuracy: 0.9050 - val_precision: 0.9175 - val_recall: 0.8900\n",
            "Epoch 161/300\n",
            "51/51 [==============================] - 8s 137ms/step - loss: 0.0142 - accuracy: 1.0000 - precision: 1.0000 - recall: 1.0000 - val_loss: 0.4308 - val_accuracy: 0.9075 - val_precision: 0.9223 - val_recall: 0.8900\n",
            "Epoch 162/300\n",
            "51/51 [==============================] - 8s 136ms/step - loss: 0.0134 - accuracy: 1.0000 - precision: 1.0000 - recall: 1.0000 - val_loss: 0.4368 - val_accuracy: 0.9075 - val_precision: 0.9267 - val_recall: 0.8850\n",
            "Epoch 163/300\n",
            "51/51 [==============================] - 8s 136ms/step - loss: 0.0133 - accuracy: 1.0000 - precision: 1.0000 - recall: 1.0000 - val_loss: 0.4412 - val_accuracy: 0.9025 - val_precision: 0.9305 - val_recall: 0.8700\n",
            "Epoch 164/300\n",
            "51/51 [==============================] - 8s 137ms/step - loss: 0.0128 - accuracy: 1.0000 - precision: 1.0000 - recall: 1.0000 - val_loss: 0.4312 - val_accuracy: 0.9050 - val_precision: 0.9133 - val_recall: 0.8950\n",
            "Epoch 165/300\n",
            "51/51 [==============================] - 8s 138ms/step - loss: 0.0136 - accuracy: 1.0000 - precision: 1.0000 - recall: 1.0000 - val_loss: 0.4436 - val_accuracy: 0.9000 - val_precision: 0.9211 - val_recall: 0.8750\n",
            "Epoch 166/300\n",
            "51/51 [==============================] - 8s 136ms/step - loss: 0.0127 - accuracy: 1.0000 - precision: 1.0000 - recall: 1.0000 - val_loss: 0.4431 - val_accuracy: 0.9075 - val_precision: 0.9223 - val_recall: 0.8900\n",
            "Epoch 167/300\n",
            "51/51 [==============================] - 8s 136ms/step - loss: 0.0126 - accuracy: 1.0000 - precision: 1.0000 - recall: 1.0000 - val_loss: 0.4469 - val_accuracy: 0.9025 - val_precision: 0.9259 - val_recall: 0.8750\n",
            "Epoch 168/300\n",
            "51/51 [==============================] - 8s 135ms/step - loss: 0.0122 - accuracy: 1.0000 - precision: 1.0000 - recall: 1.0000 - val_loss: 0.4476 - val_accuracy: 0.9050 - val_precision: 0.9263 - val_recall: 0.8800\n",
            "Epoch 169/300\n",
            "51/51 [==============================] - 8s 138ms/step - loss: 0.0123 - accuracy: 1.0000 - precision: 1.0000 - recall: 1.0000 - val_loss: 0.4416 - val_accuracy: 0.9050 - val_precision: 0.9133 - val_recall: 0.8950\n",
            "Epoch 170/300\n",
            "51/51 [==============================] - 8s 136ms/step - loss: 0.0123 - accuracy: 1.0000 - precision: 1.0000 - recall: 1.0000 - val_loss: 0.4523 - val_accuracy: 0.9050 - val_precision: 0.9263 - val_recall: 0.8800\n",
            "Epoch 171/300\n",
            "51/51 [==============================] - 8s 140ms/step - loss: 0.0119 - accuracy: 1.0000 - precision: 1.0000 - recall: 1.0000 - val_loss: 0.4530 - val_accuracy: 0.9025 - val_precision: 0.9215 - val_recall: 0.8800\n",
            "Epoch 172/300\n",
            "51/51 [==============================] - 9s 140ms/step - loss: 0.0117 - accuracy: 1.0000 - precision: 1.0000 - recall: 1.0000 - val_loss: 0.4468 - val_accuracy: 0.9050 - val_precision: 0.9175 - val_recall: 0.8900\n",
            "Epoch 173/300\n",
            "51/51 [==============================] - 9s 141ms/step - loss: 0.0115 - accuracy: 1.0000 - precision: 1.0000 - recall: 1.0000 - val_loss: 0.4524 - val_accuracy: 0.9025 - val_precision: 0.9215 - val_recall: 0.8800\n",
            "Epoch 174/300\n",
            "51/51 [==============================] - 8s 137ms/step - loss: 0.0114 - accuracy: 1.0000 - precision: 1.0000 - recall: 1.0000 - val_loss: 0.4555 - val_accuracy: 0.9025 - val_precision: 0.9259 - val_recall: 0.8750\n",
            "Epoch 175/300\n",
            "51/51 [==============================] - 8s 136ms/step - loss: 0.0113 - accuracy: 1.0000 - precision: 1.0000 - recall: 1.0000 - val_loss: 0.4535 - val_accuracy: 0.9050 - val_precision: 0.9133 - val_recall: 0.8950\n",
            "Epoch 176/300\n",
            "51/51 [==============================] - 8s 137ms/step - loss: 0.0112 - accuracy: 1.0000 - precision: 1.0000 - recall: 1.0000 - val_loss: 0.4575 - val_accuracy: 0.9050 - val_precision: 0.9263 - val_recall: 0.8800\n",
            "Epoch 177/300\n",
            "51/51 [==============================] - 8s 137ms/step - loss: 0.0109 - accuracy: 1.0000 - precision: 1.0000 - recall: 1.0000 - val_loss: 0.4597 - val_accuracy: 0.9025 - val_precision: 0.9215 - val_recall: 0.8800\n",
            "Epoch 178/300\n",
            "51/51 [==============================] - 8s 137ms/step - loss: 0.0106 - accuracy: 1.0000 - precision: 1.0000 - recall: 1.0000 - val_loss: 0.4557 - val_accuracy: 0.9075 - val_precision: 0.9179 - val_recall: 0.8950\n",
            "Epoch 179/300\n",
            "51/51 [==============================] - 8s 137ms/step - loss: 0.0106 - accuracy: 1.0000 - precision: 1.0000 - recall: 1.0000 - val_loss: 0.4589 - val_accuracy: 0.9075 - val_precision: 0.9223 - val_recall: 0.8900\n",
            "Epoch 180/300\n",
            "51/51 [==============================] - 8s 138ms/step - loss: 0.0107 - accuracy: 1.0000 - precision: 1.0000 - recall: 1.0000 - val_loss: 0.4683 - val_accuracy: 0.9025 - val_precision: 0.9259 - val_recall: 0.8750\n",
            "Epoch 181/300\n",
            "51/51 [==============================] - 8s 135ms/step - loss: 0.0102 - accuracy: 1.0000 - precision: 1.0000 - recall: 1.0000 - val_loss: 0.4610 - val_accuracy: 0.9050 - val_precision: 0.9175 - val_recall: 0.8900\n",
            "Epoch 182/300\n",
            "51/51 [==============================] - 8s 136ms/step - loss: 0.0104 - accuracy: 1.0000 - precision: 1.0000 - recall: 1.0000 - val_loss: 0.4601 - val_accuracy: 0.9050 - val_precision: 0.9133 - val_recall: 0.8950\n",
            "Epoch 183/300\n",
            "51/51 [==============================] - 8s 136ms/step - loss: 0.0102 - accuracy: 1.0000 - precision: 1.0000 - recall: 1.0000 - val_loss: 0.4594 - val_accuracy: 0.9050 - val_precision: 0.9133 - val_recall: 0.8950\n",
            "Epoch 184/300\n",
            "51/51 [==============================] - 8s 137ms/step - loss: 0.0100 - accuracy: 1.0000 - precision: 1.0000 - recall: 1.0000 - val_loss: 0.4614 - val_accuracy: 0.9075 - val_precision: 0.9179 - val_recall: 0.8950\n",
            "Epoch 185/300\n",
            "51/51 [==============================] - 8s 136ms/step - loss: 0.0101 - accuracy: 1.0000 - precision: 1.0000 - recall: 1.0000 - val_loss: 0.4663 - val_accuracy: 0.9075 - val_precision: 0.9179 - val_recall: 0.8950\n",
            "Epoch 186/300\n",
            "51/51 [==============================] - 8s 137ms/step - loss: 0.0098 - accuracy: 1.0000 - precision: 1.0000 - recall: 1.0000 - val_loss: 0.4670 - val_accuracy: 0.9050 - val_precision: 0.9133 - val_recall: 0.8950\n",
            "Epoch 187/300\n",
            "51/51 [==============================] - 8s 137ms/step - loss: 0.0096 - accuracy: 1.0000 - precision: 1.0000 - recall: 1.0000 - val_loss: 0.4808 - val_accuracy: 0.8975 - val_precision: 0.9251 - val_recall: 0.8650\n",
            "Epoch 188/300\n",
            "51/51 [==============================] - 8s 135ms/step - loss: 0.0094 - accuracy: 1.0000 - precision: 1.0000 - recall: 1.0000 - val_loss: 0.4744 - val_accuracy: 0.9025 - val_precision: 0.9215 - val_recall: 0.8800\n",
            "Epoch 189/300\n",
            "51/51 [==============================] - 8s 139ms/step - loss: 0.0096 - accuracy: 1.0000 - precision: 1.0000 - recall: 1.0000 - val_loss: 0.4791 - val_accuracy: 0.9025 - val_precision: 0.9259 - val_recall: 0.8750\n",
            "Epoch 190/300\n",
            "51/51 [==============================] - 8s 137ms/step - loss: 0.0092 - accuracy: 1.0000 - precision: 1.0000 - recall: 1.0000 - val_loss: 0.4739 - val_accuracy: 0.9025 - val_precision: 0.9171 - val_recall: 0.8850\n",
            "Epoch 191/300\n",
            "51/51 [==============================] - 8s 137ms/step - loss: 0.0091 - accuracy: 1.0000 - precision: 1.0000 - recall: 1.0000 - val_loss: 0.4803 - val_accuracy: 0.9025 - val_precision: 0.9259 - val_recall: 0.8750\n",
            "Epoch 192/300\n",
            "51/51 [==============================] - 8s 136ms/step - loss: 0.0088 - accuracy: 1.0000 - precision: 1.0000 - recall: 1.0000 - val_loss: 0.4799 - val_accuracy: 0.9025 - val_precision: 0.9171 - val_recall: 0.8850\n",
            "Epoch 193/300\n",
            "51/51 [==============================] - 8s 136ms/step - loss: 0.0089 - accuracy: 1.0000 - precision: 1.0000 - recall: 1.0000 - val_loss: 0.4758 - val_accuracy: 0.9050 - val_precision: 0.9133 - val_recall: 0.8950\n",
            "Epoch 194/300\n",
            "51/51 [==============================] - 8s 136ms/step - loss: 0.0088 - accuracy: 1.0000 - precision: 1.0000 - recall: 1.0000 - val_loss: 0.4782 - val_accuracy: 0.9050 - val_precision: 0.9175 - val_recall: 0.8900\n",
            "Epoch 195/300\n",
            "51/51 [==============================] - 8s 137ms/step - loss: 0.0087 - accuracy: 1.0000 - precision: 1.0000 - recall: 1.0000 - val_loss: 0.4887 - val_accuracy: 0.9025 - val_precision: 0.9259 - val_recall: 0.8750\n",
            "Epoch 196/300\n",
            "51/51 [==============================] - 8s 138ms/step - loss: 0.0083 - accuracy: 1.0000 - precision: 1.0000 - recall: 1.0000 - val_loss: 0.4883 - val_accuracy: 0.9025 - val_precision: 0.9259 - val_recall: 0.8750\n",
            "Epoch 197/300\n",
            "51/51 [==============================] - 8s 136ms/step - loss: 0.0084 - accuracy: 1.0000 - precision: 1.0000 - recall: 1.0000 - val_loss: 0.4899 - val_accuracy: 0.9025 - val_precision: 0.9259 - val_recall: 0.8750\n",
            "Epoch 198/300\n",
            "51/51 [==============================] - 8s 136ms/step - loss: 0.0083 - accuracy: 1.0000 - precision: 1.0000 - recall: 1.0000 - val_loss: 0.4903 - val_accuracy: 0.9025 - val_precision: 0.9215 - val_recall: 0.8800\n",
            "Epoch 199/300\n",
            "51/51 [==============================] - 8s 137ms/step - loss: 0.0081 - accuracy: 1.0000 - precision: 1.0000 - recall: 1.0000 - val_loss: 0.4894 - val_accuracy: 0.9050 - val_precision: 0.9219 - val_recall: 0.8850\n",
            "Epoch 200/300\n",
            "51/51 [==============================] - 8s 137ms/step - loss: 0.0079 - accuracy: 1.0000 - precision: 1.0000 - recall: 1.0000 - val_loss: 0.4879 - val_accuracy: 0.9050 - val_precision: 0.9175 - val_recall: 0.8900\n",
            "Epoch 201/300\n",
            "51/51 [==============================] - 8s 136ms/step - loss: 0.0080 - accuracy: 1.0000 - precision: 1.0000 - recall: 1.0000 - val_loss: 0.5019 - val_accuracy: 0.8975 - val_precision: 0.9251 - val_recall: 0.8650\n",
            "Epoch 202/300\n",
            "51/51 [==============================] - 8s 136ms/step - loss: 0.0077 - accuracy: 1.0000 - precision: 1.0000 - recall: 1.0000 - val_loss: 0.4953 - val_accuracy: 0.9025 - val_precision: 0.9215 - val_recall: 0.8800\n",
            "Epoch 203/300\n",
            "51/51 [==============================] - 8s 136ms/step - loss: 0.0076 - accuracy: 1.0000 - precision: 1.0000 - recall: 1.0000 - val_loss: 0.4992 - val_accuracy: 0.9050 - val_precision: 0.9263 - val_recall: 0.8800\n",
            "Epoch 204/300\n",
            "51/51 [==============================] - 8s 136ms/step - loss: 0.0074 - accuracy: 1.0000 - precision: 1.0000 - recall: 1.0000 - val_loss: 0.5006 - val_accuracy: 0.9050 - val_precision: 0.9263 - val_recall: 0.8800\n",
            "Epoch 205/300\n",
            "51/51 [==============================] - 8s 137ms/step - loss: 0.0076 - accuracy: 1.0000 - precision: 1.0000 - recall: 1.0000 - val_loss: 0.5098 - val_accuracy: 0.8925 - val_precision: 0.9243 - val_recall: 0.8550\n",
            "Epoch 206/300\n",
            "51/51 [==============================] - 8s 136ms/step - loss: 0.0073 - accuracy: 1.0000 - precision: 1.0000 - recall: 1.0000 - val_loss: 0.5046 - val_accuracy: 0.9025 - val_precision: 0.9259 - val_recall: 0.8750\n",
            "Epoch 207/300\n",
            "51/51 [==============================] - 8s 138ms/step - loss: 0.0071 - accuracy: 1.0000 - precision: 1.0000 - recall: 1.0000 - val_loss: 0.5052 - val_accuracy: 0.9025 - val_precision: 0.9259 - val_recall: 0.8750\n",
            "Epoch 208/300\n",
            "51/51 [==============================] - 8s 136ms/step - loss: 0.0071 - accuracy: 1.0000 - precision: 1.0000 - recall: 1.0000 - val_loss: 0.5047 - val_accuracy: 0.9025 - val_precision: 0.9215 - val_recall: 0.8800\n",
            "Epoch 209/300\n",
            "51/51 [==============================] - 8s 136ms/step - loss: 0.0069 - accuracy: 1.0000 - precision: 1.0000 - recall: 1.0000 - val_loss: 0.5047 - val_accuracy: 0.9025 - val_precision: 0.9215 - val_recall: 0.8800\n",
            "Epoch 210/300\n",
            "51/51 [==============================] - 8s 137ms/step - loss: 0.0071 - accuracy: 1.0000 - precision: 1.0000 - recall: 1.0000 - val_loss: 0.5097 - val_accuracy: 0.9050 - val_precision: 0.9263 - val_recall: 0.8800\n",
            "Epoch 211/300\n",
            "51/51 [==============================] - 8s 136ms/step - loss: 0.0068 - accuracy: 1.0000 - precision: 1.0000 - recall: 1.0000 - val_loss: 0.5111 - val_accuracy: 0.9025 - val_precision: 0.9259 - val_recall: 0.8750\n",
            "Epoch 212/300\n",
            "51/51 [==============================] - 8s 136ms/step - loss: 0.0068 - accuracy: 1.0000 - precision: 1.0000 - recall: 1.0000 - val_loss: 0.5108 - val_accuracy: 0.9050 - val_precision: 0.9263 - val_recall: 0.8800\n",
            "Epoch 213/300\n",
            "51/51 [==============================] - 8s 137ms/step - loss: 0.0067 - accuracy: 1.0000 - precision: 1.0000 - recall: 1.0000 - val_loss: 0.5138 - val_accuracy: 0.9025 - val_precision: 0.9259 - val_recall: 0.8750\n",
            "Epoch 214/300\n",
            "51/51 [==============================] - 8s 139ms/step - loss: 0.0070 - accuracy: 1.0000 - precision: 1.0000 - recall: 1.0000 - val_loss: 0.5212 - val_accuracy: 0.8950 - val_precision: 0.9247 - val_recall: 0.8600\n",
            "Epoch 215/300\n",
            "51/51 [==============================] - 8s 137ms/step - loss: 0.0064 - accuracy: 1.0000 - precision: 1.0000 - recall: 1.0000 - val_loss: 0.5113 - val_accuracy: 0.9000 - val_precision: 0.9167 - val_recall: 0.8800\n",
            "Epoch 216/300\n",
            "51/51 [==============================] - 8s 137ms/step - loss: 0.0064 - accuracy: 1.0000 - precision: 1.0000 - recall: 1.0000 - val_loss: 0.5074 - val_accuracy: 0.9050 - val_precision: 0.9133 - val_recall: 0.8950\n",
            "Epoch 217/300\n",
            "51/51 [==============================] - 8s 136ms/step - loss: 0.0066 - accuracy: 1.0000 - precision: 1.0000 - recall: 1.0000 - val_loss: 0.5231 - val_accuracy: 0.8950 - val_precision: 0.9247 - val_recall: 0.8600\n",
            "Epoch 218/300\n",
            "51/51 [==============================] - 8s 136ms/step - loss: 0.0062 - accuracy: 1.0000 - precision: 1.0000 - recall: 1.0000 - val_loss: 0.5196 - val_accuracy: 0.9025 - val_precision: 0.9259 - val_recall: 0.8750\n",
            "Epoch 219/300\n",
            "51/51 [==============================] - 8s 137ms/step - loss: 0.0061 - accuracy: 1.0000 - precision: 1.0000 - recall: 1.0000 - val_loss: 0.5191 - val_accuracy: 0.9050 - val_precision: 0.9263 - val_recall: 0.8800\n",
            "Epoch 220/300\n",
            "51/51 [==============================] - 8s 137ms/step - loss: 0.0061 - accuracy: 1.0000 - precision: 1.0000 - recall: 1.0000 - val_loss: 0.5274 - val_accuracy: 0.8975 - val_precision: 0.9297 - val_recall: 0.8600\n",
            "Epoch 221/300\n",
            "51/51 [==============================] - 8s 137ms/step - loss: 0.0060 - accuracy: 1.0000 - precision: 1.0000 - recall: 1.0000 - val_loss: 0.5275 - val_accuracy: 0.9025 - val_precision: 0.9259 - val_recall: 0.8750\n",
            "Epoch 222/300\n",
            "51/51 [==============================] - 8s 136ms/step - loss: 0.0059 - accuracy: 1.0000 - precision: 1.0000 - recall: 1.0000 - val_loss: 0.5318 - val_accuracy: 0.8975 - val_precision: 0.9297 - val_recall: 0.8600\n",
            "Epoch 223/300\n",
            "51/51 [==============================] - 8s 136ms/step - loss: 0.0058 - accuracy: 1.0000 - precision: 1.0000 - recall: 1.0000 - val_loss: 0.5211 - val_accuracy: 0.9000 - val_precision: 0.9167 - val_recall: 0.8800\n",
            "Epoch 224/300\n",
            "51/51 [==============================] - 8s 137ms/step - loss: 0.0058 - accuracy: 1.0000 - precision: 1.0000 - recall: 1.0000 - val_loss: 0.5303 - val_accuracy: 0.9025 - val_precision: 0.9259 - val_recall: 0.8750\n",
            "Epoch 225/300\n",
            "51/51 [==============================] - 8s 140ms/step - loss: 0.0057 - accuracy: 1.0000 - precision: 1.0000 - recall: 1.0000 - val_loss: 0.5272 - val_accuracy: 0.9050 - val_precision: 0.9263 - val_recall: 0.8800\n",
            "Epoch 226/300\n",
            "51/51 [==============================] - 8s 136ms/step - loss: 0.0056 - accuracy: 1.0000 - precision: 1.0000 - recall: 1.0000 - val_loss: 0.5295 - val_accuracy: 0.9025 - val_precision: 0.9259 - val_recall: 0.8750\n",
            "Epoch 227/300\n",
            "51/51 [==============================] - 8s 136ms/step - loss: 0.0057 - accuracy: 1.0000 - precision: 1.0000 - recall: 1.0000 - val_loss: 0.5368 - val_accuracy: 0.8975 - val_precision: 0.9251 - val_recall: 0.8650\n",
            "Epoch 228/300\n",
            "51/51 [==============================] - 8s 138ms/step - loss: 0.0053 - accuracy: 1.0000 - precision: 1.0000 - recall: 1.0000 - val_loss: 0.5390 - val_accuracy: 0.9025 - val_precision: 0.9259 - val_recall: 0.8750\n",
            "Epoch 229/300\n",
            "51/51 [==============================] - 8s 137ms/step - loss: 0.0053 - accuracy: 1.0000 - precision: 1.0000 - recall: 1.0000 - val_loss: 0.5400 - val_accuracy: 0.9025 - val_precision: 0.9305 - val_recall: 0.8700\n",
            "Epoch 230/300\n",
            "51/51 [==============================] - 8s 137ms/step - loss: 0.0054 - accuracy: 1.0000 - precision: 1.0000 - recall: 1.0000 - val_loss: 0.5411 - val_accuracy: 0.9025 - val_precision: 0.9305 - val_recall: 0.8700\n",
            "Epoch 231/300\n",
            "51/51 [==============================] - 8s 137ms/step - loss: 0.0052 - accuracy: 1.0000 - precision: 1.0000 - recall: 1.0000 - val_loss: 0.5471 - val_accuracy: 0.8950 - val_precision: 0.9293 - val_recall: 0.8550\n",
            "Epoch 232/300\n",
            "51/51 [==============================] - 8s 136ms/step - loss: 0.0052 - accuracy: 1.0000 - precision: 1.0000 - recall: 1.0000 - val_loss: 0.5463 - val_accuracy: 0.9000 - val_precision: 0.9301 - val_recall: 0.8650\n",
            "Epoch 233/300\n",
            "51/51 [==============================] - 8s 136ms/step - loss: 0.0050 - accuracy: 1.0000 - precision: 1.0000 - recall: 1.0000 - val_loss: 0.5458 - val_accuracy: 0.9000 - val_precision: 0.9255 - val_recall: 0.8700\n",
            "Epoch 234/300\n",
            "51/51 [==============================] - 8s 137ms/step - loss: 0.0050 - accuracy: 1.0000 - precision: 1.0000 - recall: 1.0000 - val_loss: 0.5391 - val_accuracy: 0.9000 - val_precision: 0.9167 - val_recall: 0.8800\n",
            "Epoch 235/300\n",
            "51/51 [==============================] - 8s 137ms/step - loss: 0.0050 - accuracy: 1.0000 - precision: 1.0000 - recall: 1.0000 - val_loss: 0.5478 - val_accuracy: 0.9000 - val_precision: 0.9255 - val_recall: 0.8700\n",
            "Epoch 236/300\n",
            "51/51 [==============================] - 8s 136ms/step - loss: 0.0049 - accuracy: 1.0000 - precision: 1.0000 - recall: 1.0000 - val_loss: 0.5455 - val_accuracy: 0.9025 - val_precision: 0.9259 - val_recall: 0.8750\n",
            "Epoch 237/300\n",
            "51/51 [==============================] - 8s 137ms/step - loss: 0.0050 - accuracy: 1.0000 - precision: 1.0000 - recall: 1.0000 - val_loss: 0.5472 - val_accuracy: 0.9000 - val_precision: 0.9211 - val_recall: 0.8750\n",
            "Epoch 238/300\n",
            "51/51 [==============================] - 8s 138ms/step - loss: 0.0047 - accuracy: 1.0000 - precision: 1.0000 - recall: 1.0000 - val_loss: 0.5541 - val_accuracy: 0.9000 - val_precision: 0.9301 - val_recall: 0.8650\n",
            "Epoch 239/300\n",
            "51/51 [==============================] - 8s 137ms/step - loss: 0.0046 - accuracy: 1.0000 - precision: 1.0000 - recall: 1.0000 - val_loss: 0.5542 - val_accuracy: 0.9025 - val_precision: 0.9305 - val_recall: 0.8700\n",
            "Epoch 240/300\n",
            "51/51 [==============================] - 8s 136ms/step - loss: 0.0046 - accuracy: 1.0000 - precision: 1.0000 - recall: 1.0000 - val_loss: 0.5507 - val_accuracy: 0.9025 - val_precision: 0.9259 - val_recall: 0.8750\n",
            "Epoch 241/300\n",
            "51/51 [==============================] - 8s 136ms/step - loss: 0.0046 - accuracy: 1.0000 - precision: 1.0000 - recall: 1.0000 - val_loss: 0.5627 - val_accuracy: 0.8975 - val_precision: 0.9344 - val_recall: 0.8550\n",
            "Epoch 242/300\n",
            "51/51 [==============================] - 8s 136ms/step - loss: 0.0045 - accuracy: 1.0000 - precision: 1.0000 - recall: 1.0000 - val_loss: 0.5542 - val_accuracy: 0.9025 - val_precision: 0.9259 - val_recall: 0.8750\n",
            "Epoch 243/300\n",
            "51/51 [==============================] - 8s 137ms/step - loss: 0.0044 - accuracy: 1.0000 - precision: 1.0000 - recall: 1.0000 - val_loss: 0.5524 - val_accuracy: 0.9000 - val_precision: 0.9211 - val_recall: 0.8750\n",
            "Epoch 244/300\n",
            "51/51 [==============================] - 8s 136ms/step - loss: 0.0044 - accuracy: 1.0000 - precision: 1.0000 - recall: 1.0000 - val_loss: 0.5560 - val_accuracy: 0.9025 - val_precision: 0.9259 - val_recall: 0.8750\n",
            "Epoch 245/300\n",
            "51/51 [==============================] - 8s 137ms/step - loss: 0.0043 - accuracy: 1.0000 - precision: 1.0000 - recall: 1.0000 - val_loss: 0.5596 - val_accuracy: 0.9025 - val_precision: 0.9259 - val_recall: 0.8750\n",
            "Epoch 246/300\n",
            "51/51 [==============================] - 8s 137ms/step - loss: 0.0042 - accuracy: 1.0000 - precision: 1.0000 - recall: 1.0000 - val_loss: 0.5549 - val_accuracy: 0.8975 - val_precision: 0.9162 - val_recall: 0.8750\n",
            "Epoch 247/300\n",
            "51/51 [==============================] - 8s 137ms/step - loss: 0.0042 - accuracy: 1.0000 - precision: 1.0000 - recall: 1.0000 - val_loss: 0.5672 - val_accuracy: 0.8975 - val_precision: 0.9297 - val_recall: 0.8600\n",
            "Epoch 248/300\n",
            "51/51 [==============================] - 8s 137ms/step - loss: 0.0042 - accuracy: 1.0000 - precision: 1.0000 - recall: 1.0000 - val_loss: 0.5575 - val_accuracy: 0.9000 - val_precision: 0.9211 - val_recall: 0.8750\n",
            "Epoch 249/300\n",
            "51/51 [==============================] - 8s 138ms/step - loss: 0.0042 - accuracy: 1.0000 - precision: 1.0000 - recall: 1.0000 - val_loss: 0.5704 - val_accuracy: 0.8950 - val_precision: 0.9293 - val_recall: 0.8550\n",
            "Epoch 250/300\n",
            "51/51 [==============================] - 8s 137ms/step - loss: 0.0040 - accuracy: 1.0000 - precision: 1.0000 - recall: 1.0000 - val_loss: 0.5643 - val_accuracy: 0.9025 - val_precision: 0.9259 - val_recall: 0.8750\n",
            "Epoch 251/300\n",
            "51/51 [==============================] - 8s 138ms/step - loss: 0.0040 - accuracy: 1.0000 - precision: 1.0000 - recall: 1.0000 - val_loss: 0.5690 - val_accuracy: 0.9025 - val_precision: 0.9305 - val_recall: 0.8700\n",
            "Epoch 252/300\n",
            "51/51 [==============================] - 8s 137ms/step - loss: 0.0039 - accuracy: 1.0000 - precision: 1.0000 - recall: 1.0000 - val_loss: 0.5711 - val_accuracy: 0.9025 - val_precision: 0.9305 - val_recall: 0.8700\n",
            "Epoch 253/300\n",
            "51/51 [==============================] - 8s 136ms/step - loss: 0.0038 - accuracy: 1.0000 - precision: 1.0000 - recall: 1.0000 - val_loss: 0.5698 - val_accuracy: 0.9025 - val_precision: 0.9305 - val_recall: 0.8700\n",
            "Epoch 254/300\n",
            "51/51 [==============================] - 8s 136ms/step - loss: 0.0039 - accuracy: 1.0000 - precision: 1.0000 - recall: 1.0000 - val_loss: 0.5778 - val_accuracy: 0.9000 - val_precision: 0.9301 - val_recall: 0.8650\n",
            "Epoch 255/300\n",
            "51/51 [==============================] - 8s 138ms/step - loss: 0.0037 - accuracy: 1.0000 - precision: 1.0000 - recall: 1.0000 - val_loss: 0.5784 - val_accuracy: 0.9000 - val_precision: 0.9301 - val_recall: 0.8650\n",
            "Epoch 256/300\n",
            "51/51 [==============================] - 8s 136ms/step - loss: 0.0036 - accuracy: 1.0000 - precision: 1.0000 - recall: 1.0000 - val_loss: 0.5713 - val_accuracy: 0.9050 - val_precision: 0.9309 - val_recall: 0.8750\n",
            "Epoch 257/300\n",
            "51/51 [==============================] - 8s 137ms/step - loss: 0.0038 - accuracy: 1.0000 - precision: 1.0000 - recall: 1.0000 - val_loss: 0.5768 - val_accuracy: 0.9050 - val_precision: 0.9309 - val_recall: 0.8750\n",
            "Epoch 258/300\n",
            "51/51 [==============================] - 8s 136ms/step - loss: 0.0036 - accuracy: 1.0000 - precision: 1.0000 - recall: 1.0000 - val_loss: 0.5754 - val_accuracy: 0.9050 - val_precision: 0.9309 - val_recall: 0.8750\n",
            "Epoch 259/300\n",
            "51/51 [==============================] - 8s 137ms/step - loss: 0.0036 - accuracy: 1.0000 - precision: 1.0000 - recall: 1.0000 - val_loss: 0.5794 - val_accuracy: 0.9025 - val_precision: 0.9305 - val_recall: 0.8700\n",
            "Epoch 260/300\n",
            "51/51 [==============================] - 8s 136ms/step - loss: 0.0035 - accuracy: 1.0000 - precision: 1.0000 - recall: 1.0000 - val_loss: 0.5801 - val_accuracy: 0.9050 - val_precision: 0.9309 - val_recall: 0.8750\n",
            "Epoch 261/300\n",
            "51/51 [==============================] - 8s 138ms/step - loss: 0.0034 - accuracy: 1.0000 - precision: 1.0000 - recall: 1.0000 - val_loss: 0.5843 - val_accuracy: 0.9000 - val_precision: 0.9301 - val_recall: 0.8650\n",
            "Epoch 262/300\n",
            "51/51 [==============================] - 8s 137ms/step - loss: 0.0034 - accuracy: 1.0000 - precision: 1.0000 - recall: 1.0000 - val_loss: 0.5848 - val_accuracy: 0.9025 - val_precision: 0.9305 - val_recall: 0.8700\n",
            "Epoch 263/300\n",
            "51/51 [==============================] - 8s 135ms/step - loss: 0.0035 - accuracy: 1.0000 - precision: 1.0000 - recall: 1.0000 - val_loss: 0.5776 - val_accuracy: 0.8975 - val_precision: 0.9162 - val_recall: 0.8750\n",
            "Epoch 264/300\n",
            "51/51 [==============================] - 8s 137ms/step - loss: 0.0033 - accuracy: 1.0000 - precision: 1.0000 - recall: 1.0000 - val_loss: 0.5904 - val_accuracy: 0.9000 - val_precision: 0.9301 - val_recall: 0.8650\n",
            "Epoch 265/300\n",
            "51/51 [==============================] - 8s 137ms/step - loss: 0.0033 - accuracy: 1.0000 - precision: 1.0000 - recall: 1.0000 - val_loss: 0.6043 - val_accuracy: 0.8925 - val_precision: 0.9337 - val_recall: 0.8450\n",
            "Epoch 266/300\n",
            "51/51 [==============================] - 8s 136ms/step - loss: 0.0032 - accuracy: 1.0000 - precision: 1.0000 - recall: 1.0000 - val_loss: 0.5939 - val_accuracy: 0.9000 - val_precision: 0.9301 - val_recall: 0.8650\n",
            "Epoch 267/300\n",
            "51/51 [==============================] - 8s 136ms/step - loss: 0.0032 - accuracy: 1.0000 - precision: 1.0000 - recall: 1.0000 - val_loss: 0.6041 - val_accuracy: 0.8950 - val_precision: 0.9341 - val_recall: 0.8500\n",
            "Epoch 268/300\n",
            "51/51 [==============================] - 8s 137ms/step - loss: 0.0031 - accuracy: 1.0000 - precision: 1.0000 - recall: 1.0000 - val_loss: 0.5980 - val_accuracy: 0.9025 - val_precision: 0.9351 - val_recall: 0.8650\n",
            "Epoch 269/300\n",
            "51/51 [==============================] - 8s 137ms/step - loss: 0.0031 - accuracy: 1.0000 - precision: 1.0000 - recall: 1.0000 - val_loss: 0.5965 - val_accuracy: 0.9000 - val_precision: 0.9301 - val_recall: 0.8650\n",
            "Epoch 270/300\n",
            "51/51 [==============================] - 8s 137ms/step - loss: 0.0030 - accuracy: 1.0000 - precision: 1.0000 - recall: 1.0000 - val_loss: 0.5922 - val_accuracy: 0.9050 - val_precision: 0.9309 - val_recall: 0.8750\n",
            "Epoch 271/300\n",
            "51/51 [==============================] - 8s 137ms/step - loss: 0.0030 - accuracy: 1.0000 - precision: 1.0000 - recall: 1.0000 - val_loss: 0.5941 - val_accuracy: 0.9025 - val_precision: 0.9305 - val_recall: 0.8700\n",
            "Epoch 272/300\n",
            "51/51 [==============================] - 8s 137ms/step - loss: 0.0030 - accuracy: 1.0000 - precision: 1.0000 - recall: 1.0000 - val_loss: 0.6069 - val_accuracy: 0.9000 - val_precision: 0.9348 - val_recall: 0.8600\n",
            "Epoch 273/300\n",
            "51/51 [==============================] - 8s 137ms/step - loss: 0.0029 - accuracy: 1.0000 - precision: 1.0000 - recall: 1.0000 - val_loss: 0.5994 - val_accuracy: 0.9025 - val_precision: 0.9305 - val_recall: 0.8700\n",
            "Epoch 274/300\n",
            "51/51 [==============================] - 8s 138ms/step - loss: 0.0030 - accuracy: 1.0000 - precision: 1.0000 - recall: 1.0000 - val_loss: 0.6042 - val_accuracy: 0.9000 - val_precision: 0.9301 - val_recall: 0.8650\n",
            "Epoch 275/300\n",
            "51/51 [==============================] - 8s 136ms/step - loss: 0.0030 - accuracy: 1.0000 - precision: 1.0000 - recall: 1.0000 - val_loss: 0.6089 - val_accuracy: 0.8975 - val_precision: 0.9297 - val_recall: 0.8600\n",
            "Epoch 276/300\n",
            "51/51 [==============================] - 8s 137ms/step - loss: 0.0029 - accuracy: 1.0000 - precision: 1.0000 - recall: 1.0000 - val_loss: 0.6089 - val_accuracy: 0.9025 - val_precision: 0.9351 - val_recall: 0.8650\n",
            "Epoch 277/300\n",
            "51/51 [==============================] - 8s 137ms/step - loss: 0.0028 - accuracy: 1.0000 - precision: 1.0000 - recall: 1.0000 - val_loss: 0.6142 - val_accuracy: 0.9000 - val_precision: 0.9348 - val_recall: 0.8600\n",
            "Epoch 278/300\n",
            "51/51 [==============================] - 8s 138ms/step - loss: 0.0028 - accuracy: 1.0000 - precision: 1.0000 - recall: 1.0000 - val_loss: 0.6108 - val_accuracy: 0.9025 - val_precision: 0.9351 - val_recall: 0.8650\n",
            "Epoch 279/300\n",
            "51/51 [==============================] - 8s 137ms/step - loss: 0.0027 - accuracy: 1.0000 - precision: 1.0000 - recall: 1.0000 - val_loss: 0.6145 - val_accuracy: 0.9025 - val_precision: 0.9351 - val_recall: 0.8650\n",
            "Epoch 280/300\n",
            "51/51 [==============================] - 8s 137ms/step - loss: 0.0026 - accuracy: 1.0000 - precision: 1.0000 - recall: 1.0000 - val_loss: 0.6174 - val_accuracy: 0.9000 - val_precision: 0.9348 - val_recall: 0.8600\n",
            "Epoch 281/300\n",
            "51/51 [==============================] - 8s 137ms/step - loss: 0.0026 - accuracy: 1.0000 - precision: 1.0000 - recall: 1.0000 - val_loss: 0.6163 - val_accuracy: 0.9000 - val_precision: 0.9301 - val_recall: 0.8650\n",
            "Epoch 282/300\n",
            "51/51 [==============================] - 8s 137ms/step - loss: 0.0026 - accuracy: 1.0000 - precision: 1.0000 - recall: 1.0000 - val_loss: 0.6219 - val_accuracy: 0.9000 - val_precision: 0.9348 - val_recall: 0.8600\n",
            "Epoch 283/300\n",
            "51/51 [==============================] - 8s 136ms/step - loss: 0.0026 - accuracy: 1.0000 - precision: 1.0000 - recall: 1.0000 - val_loss: 0.6174 - val_accuracy: 0.9000 - val_precision: 0.9301 - val_recall: 0.8650\n",
            "Epoch 284/300\n",
            "51/51 [==============================] - 8s 137ms/step - loss: 0.0025 - accuracy: 1.0000 - precision: 1.0000 - recall: 1.0000 - val_loss: 0.6150 - val_accuracy: 0.8975 - val_precision: 0.9251 - val_recall: 0.8650\n",
            "Epoch 285/300\n",
            "51/51 [==============================] - 8s 138ms/step - loss: 0.0025 - accuracy: 1.0000 - precision: 1.0000 - recall: 1.0000 - val_loss: 0.6187 - val_accuracy: 0.9000 - val_precision: 0.9301 - val_recall: 0.8650\n",
            "Epoch 286/300\n",
            "51/51 [==============================] - 8s 137ms/step - loss: 0.0025 - accuracy: 1.0000 - precision: 1.0000 - recall: 1.0000 - val_loss: 0.6200 - val_accuracy: 0.9000 - val_precision: 0.9301 - val_recall: 0.8650\n",
            "Epoch 287/300\n",
            "51/51 [==============================] - 8s 137ms/step - loss: 0.0025 - accuracy: 1.0000 - precision: 1.0000 - recall: 1.0000 - val_loss: 0.6220 - val_accuracy: 0.9000 - val_precision: 0.9301 - val_recall: 0.8650\n",
            "Epoch 288/300\n",
            "51/51 [==============================] - 8s 137ms/step - loss: 0.0024 - accuracy: 1.0000 - precision: 1.0000 - recall: 1.0000 - val_loss: 0.6301 - val_accuracy: 0.9025 - val_precision: 0.9351 - val_recall: 0.8650\n",
            "Epoch 289/300\n",
            "51/51 [==============================] - 8s 136ms/step - loss: 0.0024 - accuracy: 1.0000 - precision: 1.0000 - recall: 1.0000 - val_loss: 0.6248 - val_accuracy: 0.9000 - val_precision: 0.9301 - val_recall: 0.8650\n",
            "Epoch 290/300\n",
            "51/51 [==============================] - 8s 137ms/step - loss: 0.0023 - accuracy: 1.0000 - precision: 1.0000 - recall: 1.0000 - val_loss: 0.6396 - val_accuracy: 0.8975 - val_precision: 0.9344 - val_recall: 0.8550\n",
            "Epoch 291/300\n",
            "51/51 [==============================] - 8s 137ms/step - loss: 0.0023 - accuracy: 1.0000 - precision: 1.0000 - recall: 1.0000 - val_loss: 0.6343 - val_accuracy: 0.9025 - val_precision: 0.9351 - val_recall: 0.8650\n",
            "Epoch 292/300\n",
            "51/51 [==============================] - 8s 137ms/step - loss: 0.0022 - accuracy: 1.0000 - precision: 1.0000 - recall: 1.0000 - val_loss: 0.6328 - val_accuracy: 0.9025 - val_precision: 0.9351 - val_recall: 0.8650\n",
            "Epoch 293/300\n",
            "51/51 [==============================] - 8s 136ms/step - loss: 0.0022 - accuracy: 1.0000 - precision: 1.0000 - recall: 1.0000 - val_loss: 0.6344 - val_accuracy: 0.9025 - val_precision: 0.9351 - val_recall: 0.8650\n",
            "Epoch 294/300\n",
            "51/51 [==============================] - 8s 137ms/step - loss: 0.0022 - accuracy: 1.0000 - precision: 1.0000 - recall: 1.0000 - val_loss: 0.6397 - val_accuracy: 0.9000 - val_precision: 0.9348 - val_recall: 0.8600\n",
            "Epoch 295/300\n",
            "51/51 [==============================] - 8s 136ms/step - loss: 0.0022 - accuracy: 1.0000 - precision: 1.0000 - recall: 1.0000 - val_loss: 0.6445 - val_accuracy: 0.9000 - val_precision: 0.9348 - val_recall: 0.8600\n",
            "Epoch 296/300\n",
            "51/51 [==============================] - 8s 137ms/step - loss: 0.0022 - accuracy: 1.0000 - precision: 1.0000 - recall: 1.0000 - val_loss: 0.6460 - val_accuracy: 0.9000 - val_precision: 0.9348 - val_recall: 0.8600\n",
            "Epoch 297/300\n",
            "51/51 [==============================] - 8s 137ms/step - loss: 0.0021 - accuracy: 1.0000 - precision: 1.0000 - recall: 1.0000 - val_loss: 0.6428 - val_accuracy: 0.9025 - val_precision: 0.9351 - val_recall: 0.8650\n",
            "Epoch 298/300\n",
            "51/51 [==============================] - 8s 138ms/step - loss: 0.0021 - accuracy: 1.0000 - precision: 1.0000 - recall: 1.0000 - val_loss: 0.6396 - val_accuracy: 0.9000 - val_precision: 0.9301 - val_recall: 0.8650\n",
            "Epoch 299/300\n",
            "51/51 [==============================] - 8s 136ms/step - loss: 0.0020 - accuracy: 1.0000 - precision: 1.0000 - recall: 1.0000 - val_loss: 0.6409 - val_accuracy: 0.8975 - val_precision: 0.9251 - val_recall: 0.8650\n",
            "Epoch 300/300\n",
            "51/51 [==============================] - 8s 136ms/step - loss: 0.0021 - accuracy: 1.0000 - precision: 1.0000 - recall: 1.0000 - val_loss: 0.6510 - val_accuracy: 0.8975 - val_precision: 0.9344 - val_recall: 0.8550\n",
            "\n",
            "==========================\n",
            "======= Train done =======\n",
            "==========================\n"
          ]
        }
      ],
      "source": [
        "history_1 = model.fit(\n",
        "    train_ds,\n",
        "    validation_data=val_ds,\n",
        "    epochs=300,\n",
        "    steps_per_epoch=len(train_ds),\n",
        "    validation_steps=len(val_ds)\n",
        ")\n",
        "\n",
        "print(\"\\n==========================\")\n",
        "print(\"======= Train done =======\")\n",
        "print(\"==========================\")"
      ]
    },
    {
      "cell_type": "markdown",
      "metadata": {},
      "source": [
        "Result #1 train"
      ]
    },
    {
      "cell_type": "code",
      "execution_count": 24,
      "metadata": {},
      "outputs": [],
      "source": [
        "acc = history_1.history['accuracy']\n",
        "prec = history_1.history['precision']\n",
        "recall = history_1.history['recall']\n",
        "loss = history_1.history['loss']\n",
        "\n",
        "val_acc = history_1.history['val_accuracy']\n",
        "val_prec = history_1.history['val_precision']\n",
        "val_recall = history_1.history['val_recall']\n",
        "val_loss = history_1.history['val_loss']"
      ]
    },
    {
      "cell_type": "code",
      "execution_count": 25,
      "metadata": {},
      "outputs": [
        {
          "name": "stderr",
          "output_type": "stream",
          "text": [
            "WARNING:absl:Function `_wrapped_model` contains input name(s) MobilenetV3large_input with unsupported characters which will be renamed to mobilenetv3large_input in the SavedModel.\n"
          ]
        },
        {
          "name": "stdout",
          "output_type": "stream",
          "text": [
            "INFO:tensorflow:Assets written to: ./Developed-model/exp5\\assets\n"
          ]
        },
        {
          "name": "stderr",
          "output_type": "stream",
          "text": [
            "INFO:tensorflow:Assets written to: ./Developed-model/exp5\\assets\n"
          ]
        },
        {
          "name": "stdout",
          "output_type": "stream",
          "text": [
            "\n",
            "Model has been saved\n"
          ]
        }
      ],
      "source": [
        "save_path = './Developed-model/exp5'\n",
        "model.save(save_path)\n",
        "print(\"\\nModel has been saved\")"
      ]
    },
    {
      "cell_type": "code",
      "execution_count": 26,
      "metadata": {},
      "outputs": [
        {
          "name": "stdout",
          "output_type": "stream",
          "text": [
            "\n",
            "Evaluating the model with test set\n",
            "13/13 [==============================] - 5s 126ms/step - loss: 0.2942 - accuracy: 0.9475 - precision: 0.9453 - recall: 0.9500\n"
          ]
        },
        {
          "data": {
            "text/plain": [
              "[0.2942034602165222, 0.9474999904632568, 0.9452736377716064, 0.949999988079071]"
            ]
          },
          "execution_count": 26,
          "metadata": {},
          "output_type": "execute_result"
        }
      ],
      "source": [
        "print(\"\\nEvaluating the model with test set\")\n",
        "model.evaluate(test_ds)"
      ]
    },
    {
      "cell_type": "markdown",
      "metadata": {},
      "source": [
        "# Export Fine tune 1 metrics result to csv"
      ]
    },
    {
      "cell_type": "code",
      "execution_count": 27,
      "metadata": {},
      "outputs": [
        {
          "name": "stdout",
          "output_type": "stream",
          "text": [
            "\n",
            "Train result has been saved\n"
          ]
        }
      ],
      "source": [
        "data = [acc, prec, recall, loss, val_acc, val_prec, val_recall, val_loss]\n",
        "export_data = zip_longest(*data, fillvalue = '')\n",
        "\n",
        "with open('exp5.csv', 'w', encoding=\"ISO-8859-1\", newline='') as file:\n",
        "      write = csv.writer(file)\n",
        "      write.writerow((\"acc\", \"prec\", \"recall\", \"loss\", \"val_acc\", \"val_prec\", \"val_recall\", \"val_loss\"))\n",
        "      write.writerows(export_data)\n",
        "\n",
        "print(\"\\nTrain result has been saved\")"
      ]
    },
    {
      "cell_type": "code",
      "execution_count": 28,
      "metadata": {},
      "outputs": [
        {
          "data": {
            "image/png": "[encoded data removed]",
            "text/plain": [
              "<Figure size 1440x1152 with 4 Axes>"
            ]
          },
          "metadata": {
            "needs_background": "light"
          },
          "output_type": "display_data"
        }
      ],
      "source": [
        "\n",
        "\n",
        "plt.figure(figsize=(20, 16))\n",
        "plt.subplot(2, 2, 1)\n",
        "plt.plot(acc, label='Training Accuracy')\n",
        "plt.plot(val_acc, label='Validation Accuracy')\n",
        "plt.legend(loc='lower right')\n",
        "plt.ylabel('Accuracy')\n",
        "plt.ylim([min(plt.ylim()),1])\n",
        "plt.title('Training and Validation Accuracy')\n",
        "\n",
        "plt.subplot(2, 2, 2)\n",
        "plt.plot(loss, label='Training Loss')\n",
        "plt.plot(val_loss, label='Validation Loss')\n",
        "plt.legend(loc='upper right')\n",
        "plt.ylabel('Cross Entropy')\n",
        "plt.ylim([0,1.0])\n",
        "plt.title('Training and Validation Loss')\n",
        "\n",
        "plt.subplot(2, 2, 3)\n",
        "plt.plot(prec, label='Training Precision')\n",
        "plt.plot(val_prec, label='Validation Precision')\n",
        "plt.legend(loc='lower right')\n",
        "plt.ylabel('Precision')\n",
        "plt.ylim([min(plt.ylim()),1])\n",
        "plt.title('Training and Validation Precision')\n",
        "plt.xlabel('epoch')\n",
        "\n",
        "plt.subplot(2, 2, 4)\n",
        "plt.plot(recall, label='Training Recall')\n",
        "plt.plot(val_recall, label='Validation Recall')\n",
        "plt.legend(loc='lower right')\n",
        "plt.ylabel('Recall')\n",
        "plt.ylim([min(plt.ylim()),1])\n",
        "plt.title('Training and Validation Recall')\n",
        "\n",
        "plt.xlabel('epoch')\n",
        "plt.show()"
      ]
    }
  ],
  "metadata": {
    "accelerator": "GPU",
    "colab": {
      "collapsed_sections": [
        "eGY-cAkI0NUu",
        "bxSgOQIHokq1",
        "ietuHeAUNDuy"
      ],
      "name": "smoker-detectin-Mnetv3.ipynb",
      "provenance": []
    },
    "interpreter": {
      "hash": "03c5b415161f52c9cf0e23eee5a2cd780a913d717c2bd2cd99ffa3fed6a14a2e"
    },
    "kernelspec": {
      "display_name": "Python 3.8.12 ('myenv')",
      "language": "python",
      "name": "python3"
    },
    "language_info": {
      "codemirror_mode": {
        "name": "ipython",
        "version": 3
      },
      "file_extension": ".py",
      "mimetype": "text/x-python",
      "name": "python",
      "nbconvert_exporter": "python",
      "pygments_lexer": "ipython3",
      "version": "3.8.12"
    }
  },
  "nbformat": 4,
  "nbformat_minor": 0
}
